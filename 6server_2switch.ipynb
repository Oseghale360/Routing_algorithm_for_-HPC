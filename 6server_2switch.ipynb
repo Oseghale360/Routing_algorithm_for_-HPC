{
 "cells": [
  {
   "cell_type": "code",
   "execution_count": 1,
   "id": "59019b41-3b25-4ebd-96c5-944726ab1ffc",
   "metadata": {},
   "outputs": [],
   "source": [
    "# 5 Servers and 1 switch example \n",
    "#Import Fablib library\n",
    "from fabrictestbed_extensions.fablib.fablib import FablibManager as fablib_manager\n",
    "fablib = fablib_manager()"
   ]
  },
  {
   "cell_type": "code",
   "execution_count": 2,
   "id": "12de0bec-ad29-4d12-807a-f7d06a3396a7",
   "metadata": {},
   "outputs": [],
   "source": [
    "slice = fablib.new_slice(name=\"Server17\")"
   ]
  },
  {
   "cell_type": "code",
   "execution_count": 3,
   "id": "aae65e08-b605-48ac-8905-d864060c7c8f",
   "metadata": {},
   "outputs": [
    {
     "name": "stdout",
     "output_type": "stream",
     "text": [
      "The selected sites are UCSD\n"
     ]
    }
   ],
   "source": [
    "site1='UCSD'\n",
    "print (f'The selected sites are {site1}') "
   ]
  },
  {
   "cell_type": "code",
   "execution_count": 4,
   "id": "3ecffd74-2d7b-4355-83e8-5c7332a26b82",
   "metadata": {},
   "outputs": [],
   "source": [
    "server1 = slice.add_node(name=\"server1\", \n",
    "                      site=site1, \n",
    "                      cores=8, \n",
    "                      ram=16, \n",
    "                      disk=500, \n",
    "                      image='default_ubuntu_20')\n",
    "\n",
    "server2 = slice.add_node(name=\"server2\", \n",
    "                      site=site1, \n",
    "                      cores=8, \n",
    "                      ram=16, \n",
    "                      disk=500, \n",
    "                      image='default_ubuntu_20')\n",
    "\n",
    "user1 = slice.add_node(name=\"user1\", \n",
    "                      site=site1, \n",
    "                      cores=8, \n",
    "                      ram=16, \n",
    "                      disk=500, \n",
    "                      image='default_ubuntu_20')\n",
    "\n",
    "user2 = slice.add_node(name=\"user2\", \n",
    "                      site=site1, \n",
    "                      cores=8, \n",
    "                      ram=16, \n",
    "                      disk=500, \n",
    "                      image='default_ubuntu_20')\n",
    "\n",
    "cont = slice.add_node(name=\"cont\", \n",
    "                      site=site1, \n",
    "                      cores=8, \n",
    "                      ram=16, \n",
    "                      disk=500, \n",
    "                      image='default_ubuntu_20')\n"
   ]
  },
  {
   "cell_type": "code",
   "execution_count": 5,
   "id": "e071e7c4-1ac4-42f8-9810-5389507a66ee",
   "metadata": {},
   "outputs": [],
   "source": [
    "#2\n",
    "server3 = slice.add_node(name=\"server3\", \n",
    "                      site=site1, \n",
    "                      cores=8, \n",
    "                      ram=16, \n",
    "                      disk=500, \n",
    "                      image='default_ubuntu_20')"
   ]
  },
  {
   "cell_type": "code",
   "execution_count": 6,
   "id": "2f686991-a4d1-456d-a07f-3f029993f49c",
   "metadata": {},
   "outputs": [],
   "source": [
    "server1_iface = server1.add_component(model='NIC_Basic').get_interfaces()[0]\n",
    "server2_iface = server2.add_component(model='NIC_Basic').get_interfaces()[0]\n",
    "user1_iface = user1.add_component(model='NIC_Basic').get_interfaces()[0]\n",
    "user2_iface = user2.add_component(model='NIC_Basic').get_interfaces()[0]\n",
    "cont_iface = cont.add_component(model='NIC_Basic').get_interfaces()[0]"
   ]
  },
  {
   "cell_type": "code",
   "execution_count": 7,
   "id": "09d71ea5-b134-4491-87a3-6f162344f112",
   "metadata": {},
   "outputs": [],
   "source": [
    "#2\n",
    "server1_iface2 = server1.add_component(model='NIC_Basic', name='s1_net2_nic').get_interfaces()[0]\n",
    "server3_iface = server3.add_component(model='NIC_Basic').get_interfaces()[0]"
   ]
  },
  {
   "cell_type": "code",
   "execution_count": 8,
   "id": "1b7e1c95-114a-48fc-bb5e-f6ffcf22491b",
   "metadata": {},
   "outputs": [],
   "source": [
    "# Add a node\n",
    "switch = slice.add_node(name=\"switch\", \n",
    "                      site=site1, \n",
    "                      cores=32, \n",
    "                      ram=16, \n",
    "                      disk=40, \n",
    "                      image='default_ubuntu_20')"
   ]
  },
  {
   "cell_type": "code",
   "execution_count": 9,
   "id": "ac492ba1-fa93-46d3-a1c8-c9a515cfe418",
   "metadata": {},
   "outputs": [],
   "source": [
    "#2 Switch2  \n",
    "switch2 = slice.add_node(name=\"switch2\", \n",
    "                      site=site1, \n",
    "                      cores=32, \n",
    "                      ram=16, \n",
    "                      disk=40, \n",
    "                      image='default_ubuntu_20')"
   ]
  },
  {
   "cell_type": "code",
   "execution_count": 10,
   "id": "013f7c5f-de06-4759-bf81-055da82e8049",
   "metadata": {},
   "outputs": [],
   "source": [
    "switch_iface1 = switch.add_component(model='NIC_Basic', name='net1_nic').get_interfaces()[0]\n",
    "switch_iface2 = switch.add_component(model='NIC_Basic', name='net2_nic').get_interfaces()[0]\n",
    "switch_iface3 = switch.add_component(model='NIC_Basic', name='net3_nic').get_interfaces()[0]\n",
    "switch_iface4 = switch.add_component(model='NIC_Basic', name='net4_nic').get_interfaces()[0]\n",
    "switch_iface5 = switch.add_component(model='NIC_Basic', name='net5_nic').get_interfaces()[0]"
   ]
  },
  {
   "cell_type": "code",
   "execution_count": 11,
   "id": "3caa7d06-8430-454f-a730-d996cd97c4b5",
   "metadata": {},
   "outputs": [],
   "source": [
    "#2\n",
    "switch2_iface1 = switch2.add_component(model='NIC_Basic', name='sw2_net1_nic').get_interfaces()[0]\n",
    "switch2_iface2 = switch2.add_component(model='NIC_Basic', name='sw2_net2_nic').get_interfaces()[0]"
   ]
  },
  {
   "cell_type": "code",
   "execution_count": 12,
   "id": "7cd34e82-1447-40e9-b744-127752e94ac7",
   "metadata": {},
   "outputs": [],
   "source": [
    "net1 = slice.add_l2network(name='net1', interfaces=[server1_iface, switch_iface1])\n",
    "net2 = slice.add_l2network(name='net2', interfaces=[switch_iface2, server2_iface])\n",
    "net3 = slice.add_l2network(name='net3', interfaces=[user1_iface, switch_iface3])\n",
    "net4 = slice.add_l2network(name='net4', interfaces=[switch_iface4, user2_iface])\n",
    "net5 = slice.add_l2network(name='net5', interfaces=[switch_iface5, cont_iface])"
   ]
  },
  {
   "cell_type": "code",
   "execution_count": 13,
   "id": "39ce3578-7a28-436b-8725-39e332d6cc9c",
   "metadata": {},
   "outputs": [],
   "source": [
    "#2\n",
    "net6 = slice.add_l2network(name='net6', interfaces=[server1_iface2, switch2_iface1])\n",
    "net7 = slice.add_l2network(name='net7', interfaces=[switch2_iface2, server3_iface])"
   ]
  },
  {
   "cell_type": "code",
   "execution_count": 14,
   "id": "765664bf-fc05-4cb4-88b6-c6bdd1a6a646",
   "metadata": {},
   "outputs": [
    {
     "name": "stdout",
     "output_type": "stream",
     "text": [
      "\n",
      "Retry: 15, Time: 867 sec\n"
     ]
    },
    {
     "data": {
      "text/html": [
       "<style type=\"text/css\">\n",
       "#T_db06a tr:nth-child(even) {\n",
       "  background: #dbf3ff;\n",
       "  color: #231f20;\n",
       "}\n",
       "#T_db06a tr:nth-child(odd) {\n",
       "  background: #ffffff;\n",
       "  color: #231f20;\n",
       "}\n",
       "#T_db06a caption {\n",
       "  text-align: center;\n",
       "  font-size: 150%;\n",
       "}\n",
       "#T_db06a_row0_col0, #T_db06a_row0_col1, #T_db06a_row1_col0, #T_db06a_row1_col1, #T_db06a_row2_col0, #T_db06a_row2_col1, #T_db06a_row3_col0, #T_db06a_row3_col1, #T_db06a_row4_col0, #T_db06a_row4_col1, #T_db06a_row5_col0 {\n",
       "  text-align: left;\n",
       "  border: 1px #231f20 solid !important;\n",
       "  overwrite: False;\n",
       "  background-color: ;\n",
       "}\n",
       "#T_db06a_row5_col1 {\n",
       "  text-align: left;\n",
       "  border: 1px #231f20 solid !important;\n",
       "  overwrite: False;\n",
       "  background-color: #c3ffc4;\n",
       "}\n",
       "</style>\n",
       "<table id=\"T_db06a\">\n",
       "  <caption>Slice</caption>\n",
       "  <thead>\n",
       "  </thead>\n",
       "  <tbody>\n",
       "    <tr>\n",
       "      <td id=\"T_db06a_row0_col0\" class=\"data row0 col0\" >ID</td>\n",
       "      <td id=\"T_db06a_row0_col1\" class=\"data row0 col1\" >dcbeced4-b07a-4159-928b-07965ced2709</td>\n",
       "    </tr>\n",
       "    <tr>\n",
       "      <td id=\"T_db06a_row1_col0\" class=\"data row1 col0\" >Name</td>\n",
       "      <td id=\"T_db06a_row1_col1\" class=\"data row1 col1\" >Server17</td>\n",
       "    </tr>\n",
       "    <tr>\n",
       "      <td id=\"T_db06a_row2_col0\" class=\"data row2 col0\" >Lease Expiration (UTC)</td>\n",
       "      <td id=\"T_db06a_row2_col1\" class=\"data row2 col1\" >2024-02-03 17:47:56 +0000</td>\n",
       "    </tr>\n",
       "    <tr>\n",
       "      <td id=\"T_db06a_row3_col0\" class=\"data row3 col0\" >Lease Start (UTC)</td>\n",
       "      <td id=\"T_db06a_row3_col1\" class=\"data row3 col1\" >2024-02-02 17:47:57 +0000</td>\n",
       "    </tr>\n",
       "    <tr>\n",
       "      <td id=\"T_db06a_row4_col0\" class=\"data row4 col0\" >Project ID</td>\n",
       "      <td id=\"T_db06a_row4_col1\" class=\"data row4 col1\" >527832fc-c273-4254-b988-16e5c2923bf9</td>\n",
       "    </tr>\n",
       "    <tr>\n",
       "      <td id=\"T_db06a_row5_col0\" class=\"data row5 col0\" >State</td>\n",
       "      <td id=\"T_db06a_row5_col1\" class=\"data row5 col1\" >StableOK</td>\n",
       "    </tr>\n",
       "  </tbody>\n",
       "</table>\n"
      ],
      "text/plain": [
       "<pandas.io.formats.style.Styler at 0x7f74d44c9fc0>"
      ]
     },
     "metadata": {},
     "output_type": "display_data"
    },
    {
     "data": {
      "text/html": [
       "<style type=\"text/css\">\n",
       "#T_e60f8 caption {\n",
       "  text-align: center;\n",
       "  font-size: 150%;\n",
       "  caption-side: top;\n",
       "}\n",
       "#T_e60f8 th {\n",
       "  text-align: left;\n",
       "}\n",
       "#T_e60f8 tr:nth-child(even) {\n",
       "  background: #ffffff;\n",
       "  color: #231f20;\n",
       "}\n",
       "#T_e60f8 tr:nth-child(odd) {\n",
       "  background: #dbf3ff;\n",
       "  color: #231f20;\n",
       "}\n",
       "#T_e60f8 .level0 {\n",
       "  border: 1px black solid !important;\n",
       "  background: #ffffff;\n",
       "  color: #231f20;\n",
       "}\n",
       "#T_e60f8_row0_col0, #T_e60f8_row0_col1, #T_e60f8_row0_col2, #T_e60f8_row0_col3, #T_e60f8_row0_col4, #T_e60f8_row0_col5, #T_e60f8_row0_col6, #T_e60f8_row0_col7, #T_e60f8_row0_col8, #T_e60f8_row0_col9, #T_e60f8_row0_col10, #T_e60f8_row0_col13, #T_e60f8_row0_col14, #T_e60f8_row0_col15, #T_e60f8_row1_col0, #T_e60f8_row1_col1, #T_e60f8_row1_col2, #T_e60f8_row1_col3, #T_e60f8_row1_col4, #T_e60f8_row1_col5, #T_e60f8_row1_col6, #T_e60f8_row1_col7, #T_e60f8_row1_col8, #T_e60f8_row1_col9, #T_e60f8_row1_col10, #T_e60f8_row1_col13, #T_e60f8_row1_col14, #T_e60f8_row1_col15, #T_e60f8_row2_col0, #T_e60f8_row2_col1, #T_e60f8_row2_col2, #T_e60f8_row2_col3, #T_e60f8_row2_col4, #T_e60f8_row2_col5, #T_e60f8_row2_col6, #T_e60f8_row2_col7, #T_e60f8_row2_col8, #T_e60f8_row2_col9, #T_e60f8_row2_col10, #T_e60f8_row2_col13, #T_e60f8_row2_col14, #T_e60f8_row2_col15, #T_e60f8_row3_col0, #T_e60f8_row3_col1, #T_e60f8_row3_col2, #T_e60f8_row3_col3, #T_e60f8_row3_col4, #T_e60f8_row3_col5, #T_e60f8_row3_col6, #T_e60f8_row3_col7, #T_e60f8_row3_col8, #T_e60f8_row3_col9, #T_e60f8_row3_col10, #T_e60f8_row3_col13, #T_e60f8_row3_col14, #T_e60f8_row3_col15, #T_e60f8_row4_col0, #T_e60f8_row4_col1, #T_e60f8_row4_col2, #T_e60f8_row4_col3, #T_e60f8_row4_col4, #T_e60f8_row4_col5, #T_e60f8_row4_col6, #T_e60f8_row4_col7, #T_e60f8_row4_col8, #T_e60f8_row4_col9, #T_e60f8_row4_col10, #T_e60f8_row4_col13, #T_e60f8_row4_col14, #T_e60f8_row4_col15, #T_e60f8_row5_col0, #T_e60f8_row5_col1, #T_e60f8_row5_col2, #T_e60f8_row5_col3, #T_e60f8_row5_col4, #T_e60f8_row5_col5, #T_e60f8_row5_col6, #T_e60f8_row5_col7, #T_e60f8_row5_col8, #T_e60f8_row5_col9, #T_e60f8_row5_col10, #T_e60f8_row5_col13, #T_e60f8_row5_col14, #T_e60f8_row5_col15, #T_e60f8_row6_col0, #T_e60f8_row6_col1, #T_e60f8_row6_col2, #T_e60f8_row6_col3, #T_e60f8_row6_col4, #T_e60f8_row6_col5, #T_e60f8_row6_col6, #T_e60f8_row6_col7, #T_e60f8_row6_col8, #T_e60f8_row6_col9, #T_e60f8_row6_col10, #T_e60f8_row6_col13, #T_e60f8_row6_col14, #T_e60f8_row6_col15, #T_e60f8_row7_col0, #T_e60f8_row7_col1, #T_e60f8_row7_col2, #T_e60f8_row7_col3, #T_e60f8_row7_col4, #T_e60f8_row7_col5, #T_e60f8_row7_col6, #T_e60f8_row7_col7, #T_e60f8_row7_col8, #T_e60f8_row7_col9, #T_e60f8_row7_col10, #T_e60f8_row7_col13, #T_e60f8_row7_col14, #T_e60f8_row7_col15 {\n",
       "  text-align: left;\n",
       "  border: 1px #231f20 solid !important;\n",
       "  overwrite: False;\n",
       "}\n",
       "#T_e60f8_row0_col11, #T_e60f8_row1_col11, #T_e60f8_row2_col11, #T_e60f8_row3_col11, #T_e60f8_row4_col11, #T_e60f8_row5_col11, #T_e60f8_row6_col11, #T_e60f8_row7_col11 {\n",
       "  text-align: left;\n",
       "  border: 1px #231f20 solid !important;\n",
       "  overwrite: False;\n",
       "  background-color: #c3ffc4;\n",
       "}\n",
       "#T_e60f8_row0_col12, #T_e60f8_row1_col12, #T_e60f8_row2_col12, #T_e60f8_row3_col12, #T_e60f8_row4_col12, #T_e60f8_row5_col12, #T_e60f8_row6_col12, #T_e60f8_row7_col12 {\n",
       "  text-align: left;\n",
       "  border: 1px #231f20 solid !important;\n",
       "  overwrite: False;\n",
       "  background-color: ;\n",
       "}\n",
       "</style>\n",
       "<table id=\"T_e60f8\">\n",
       "  <caption>Nodes</caption>\n",
       "  <thead>\n",
       "    <tr>\n",
       "      <th id=\"T_e60f8_level0_col0\" class=\"col_heading level0 col0\" >ID</th>\n",
       "      <th id=\"T_e60f8_level0_col1\" class=\"col_heading level0 col1\" >Name</th>\n",
       "      <th id=\"T_e60f8_level0_col2\" class=\"col_heading level0 col2\" >Cores</th>\n",
       "      <th id=\"T_e60f8_level0_col3\" class=\"col_heading level0 col3\" >RAM</th>\n",
       "      <th id=\"T_e60f8_level0_col4\" class=\"col_heading level0 col4\" >Disk</th>\n",
       "      <th id=\"T_e60f8_level0_col5\" class=\"col_heading level0 col5\" >Image</th>\n",
       "      <th id=\"T_e60f8_level0_col6\" class=\"col_heading level0 col6\" >Image Type</th>\n",
       "      <th id=\"T_e60f8_level0_col7\" class=\"col_heading level0 col7\" >Host</th>\n",
       "      <th id=\"T_e60f8_level0_col8\" class=\"col_heading level0 col8\" >Site</th>\n",
       "      <th id=\"T_e60f8_level0_col9\" class=\"col_heading level0 col9\" >Username</th>\n",
       "      <th id=\"T_e60f8_level0_col10\" class=\"col_heading level0 col10\" >Management IP</th>\n",
       "      <th id=\"T_e60f8_level0_col11\" class=\"col_heading level0 col11\" >State</th>\n",
       "      <th id=\"T_e60f8_level0_col12\" class=\"col_heading level0 col12\" >Error</th>\n",
       "      <th id=\"T_e60f8_level0_col13\" class=\"col_heading level0 col13\" >SSH Command</th>\n",
       "      <th id=\"T_e60f8_level0_col14\" class=\"col_heading level0 col14\" >Public SSH Key File</th>\n",
       "      <th id=\"T_e60f8_level0_col15\" class=\"col_heading level0 col15\" >Private SSH Key File</th>\n",
       "    </tr>\n",
       "  </thead>\n",
       "  <tbody>\n",
       "    <tr>\n",
       "      <td id=\"T_e60f8_row0_col0\" class=\"data row0 col0\" >5d004978-a1fd-4e9b-947c-f57c6d0b367c</td>\n",
       "      <td id=\"T_e60f8_row0_col1\" class=\"data row0 col1\" >cont</td>\n",
       "      <td id=\"T_e60f8_row0_col2\" class=\"data row0 col2\" >8</td>\n",
       "      <td id=\"T_e60f8_row0_col3\" class=\"data row0 col3\" >16</td>\n",
       "      <td id=\"T_e60f8_row0_col4\" class=\"data row0 col4\" >500</td>\n",
       "      <td id=\"T_e60f8_row0_col5\" class=\"data row0 col5\" >default_ubuntu_20</td>\n",
       "      <td id=\"T_e60f8_row0_col6\" class=\"data row0 col6\" >qcow2</td>\n",
       "      <td id=\"T_e60f8_row0_col7\" class=\"data row0 col7\" >ucsd-w3.fabric-testbed.net</td>\n",
       "      <td id=\"T_e60f8_row0_col8\" class=\"data row0 col8\" >UCSD</td>\n",
       "      <td id=\"T_e60f8_row0_col9\" class=\"data row0 col9\" >ubuntu</td>\n",
       "      <td id=\"T_e60f8_row0_col10\" class=\"data row0 col10\" >132.249.252.155</td>\n",
       "      <td id=\"T_e60f8_row0_col11\" class=\"data row0 col11\" >Active</td>\n",
       "      <td id=\"T_e60f8_row0_col12\" class=\"data row0 col12\" ></td>\n",
       "      <td id=\"T_e60f8_row0_col13\" class=\"data row0 col13\" >ssh -i /home/fabric/work/fabric_config/slice_key -F /home/fabric/work/fabric_config/ssh_config ubuntu@132.249.252.155</td>\n",
       "      <td id=\"T_e60f8_row0_col14\" class=\"data row0 col14\" >/home/fabric/work/fabric_config/slice_key.pub</td>\n",
       "      <td id=\"T_e60f8_row0_col15\" class=\"data row0 col15\" >/home/fabric/work/fabric_config/slice_key</td>\n",
       "    </tr>\n",
       "    <tr>\n",
       "      <td id=\"T_e60f8_row1_col0\" class=\"data row1 col0\" >4b752d38-3fb8-4aba-9908-839d7e957adc</td>\n",
       "      <td id=\"T_e60f8_row1_col1\" class=\"data row1 col1\" >server1</td>\n",
       "      <td id=\"T_e60f8_row1_col2\" class=\"data row1 col2\" >8</td>\n",
       "      <td id=\"T_e60f8_row1_col3\" class=\"data row1 col3\" >16</td>\n",
       "      <td id=\"T_e60f8_row1_col4\" class=\"data row1 col4\" >500</td>\n",
       "      <td id=\"T_e60f8_row1_col5\" class=\"data row1 col5\" >default_ubuntu_20</td>\n",
       "      <td id=\"T_e60f8_row1_col6\" class=\"data row1 col6\" >qcow2</td>\n",
       "      <td id=\"T_e60f8_row1_col7\" class=\"data row1 col7\" >ucsd-w5.fabric-testbed.net</td>\n",
       "      <td id=\"T_e60f8_row1_col8\" class=\"data row1 col8\" >UCSD</td>\n",
       "      <td id=\"T_e60f8_row1_col9\" class=\"data row1 col9\" >ubuntu</td>\n",
       "      <td id=\"T_e60f8_row1_col10\" class=\"data row1 col10\" >132.249.252.166</td>\n",
       "      <td id=\"T_e60f8_row1_col11\" class=\"data row1 col11\" >Active</td>\n",
       "      <td id=\"T_e60f8_row1_col12\" class=\"data row1 col12\" ></td>\n",
       "      <td id=\"T_e60f8_row1_col13\" class=\"data row1 col13\" >ssh -i /home/fabric/work/fabric_config/slice_key -F /home/fabric/work/fabric_config/ssh_config ubuntu@132.249.252.166</td>\n",
       "      <td id=\"T_e60f8_row1_col14\" class=\"data row1 col14\" >/home/fabric/work/fabric_config/slice_key.pub</td>\n",
       "      <td id=\"T_e60f8_row1_col15\" class=\"data row1 col15\" >/home/fabric/work/fabric_config/slice_key</td>\n",
       "    </tr>\n",
       "    <tr>\n",
       "      <td id=\"T_e60f8_row2_col0\" class=\"data row2 col0\" >38e6d6f6-78b2-4cb5-a875-138c2a52f0c5</td>\n",
       "      <td id=\"T_e60f8_row2_col1\" class=\"data row2 col1\" >server2</td>\n",
       "      <td id=\"T_e60f8_row2_col2\" class=\"data row2 col2\" >8</td>\n",
       "      <td id=\"T_e60f8_row2_col3\" class=\"data row2 col3\" >16</td>\n",
       "      <td id=\"T_e60f8_row2_col4\" class=\"data row2 col4\" >500</td>\n",
       "      <td id=\"T_e60f8_row2_col5\" class=\"data row2 col5\" >default_ubuntu_20</td>\n",
       "      <td id=\"T_e60f8_row2_col6\" class=\"data row2 col6\" >qcow2</td>\n",
       "      <td id=\"T_e60f8_row2_col7\" class=\"data row2 col7\" >ucsd-w5.fabric-testbed.net</td>\n",
       "      <td id=\"T_e60f8_row2_col8\" class=\"data row2 col8\" >UCSD</td>\n",
       "      <td id=\"T_e60f8_row2_col9\" class=\"data row2 col9\" >ubuntu</td>\n",
       "      <td id=\"T_e60f8_row2_col10\" class=\"data row2 col10\" >132.249.252.165</td>\n",
       "      <td id=\"T_e60f8_row2_col11\" class=\"data row2 col11\" >Active</td>\n",
       "      <td id=\"T_e60f8_row2_col12\" class=\"data row2 col12\" ></td>\n",
       "      <td id=\"T_e60f8_row2_col13\" class=\"data row2 col13\" >ssh -i /home/fabric/work/fabric_config/slice_key -F /home/fabric/work/fabric_config/ssh_config ubuntu@132.249.252.165</td>\n",
       "      <td id=\"T_e60f8_row2_col14\" class=\"data row2 col14\" >/home/fabric/work/fabric_config/slice_key.pub</td>\n",
       "      <td id=\"T_e60f8_row2_col15\" class=\"data row2 col15\" >/home/fabric/work/fabric_config/slice_key</td>\n",
       "    </tr>\n",
       "    <tr>\n",
       "      <td id=\"T_e60f8_row3_col0\" class=\"data row3 col0\" >76a427c2-af65-4b8c-8358-8ae98d7cb8e2</td>\n",
       "      <td id=\"T_e60f8_row3_col1\" class=\"data row3 col1\" >server3</td>\n",
       "      <td id=\"T_e60f8_row3_col2\" class=\"data row3 col2\" >8</td>\n",
       "      <td id=\"T_e60f8_row3_col3\" class=\"data row3 col3\" >16</td>\n",
       "      <td id=\"T_e60f8_row3_col4\" class=\"data row3 col4\" >500</td>\n",
       "      <td id=\"T_e60f8_row3_col5\" class=\"data row3 col5\" >default_ubuntu_20</td>\n",
       "      <td id=\"T_e60f8_row3_col6\" class=\"data row3 col6\" >qcow2</td>\n",
       "      <td id=\"T_e60f8_row3_col7\" class=\"data row3 col7\" >ucsd-w2.fabric-testbed.net</td>\n",
       "      <td id=\"T_e60f8_row3_col8\" class=\"data row3 col8\" >UCSD</td>\n",
       "      <td id=\"T_e60f8_row3_col9\" class=\"data row3 col9\" >ubuntu</td>\n",
       "      <td id=\"T_e60f8_row3_col10\" class=\"data row3 col10\" >132.249.252.146</td>\n",
       "      <td id=\"T_e60f8_row3_col11\" class=\"data row3 col11\" >Active</td>\n",
       "      <td id=\"T_e60f8_row3_col12\" class=\"data row3 col12\" ></td>\n",
       "      <td id=\"T_e60f8_row3_col13\" class=\"data row3 col13\" >ssh -i /home/fabric/work/fabric_config/slice_key -F /home/fabric/work/fabric_config/ssh_config ubuntu@132.249.252.146</td>\n",
       "      <td id=\"T_e60f8_row3_col14\" class=\"data row3 col14\" >/home/fabric/work/fabric_config/slice_key.pub</td>\n",
       "      <td id=\"T_e60f8_row3_col15\" class=\"data row3 col15\" >/home/fabric/work/fabric_config/slice_key</td>\n",
       "    </tr>\n",
       "    <tr>\n",
       "      <td id=\"T_e60f8_row4_col0\" class=\"data row4 col0\" >72780a2e-5c0e-422b-b2ae-7969b808e8aa</td>\n",
       "      <td id=\"T_e60f8_row4_col1\" class=\"data row4 col1\" >switch</td>\n",
       "      <td id=\"T_e60f8_row4_col2\" class=\"data row4 col2\" >32</td>\n",
       "      <td id=\"T_e60f8_row4_col3\" class=\"data row4 col3\" >16</td>\n",
       "      <td id=\"T_e60f8_row4_col4\" class=\"data row4 col4\" >100</td>\n",
       "      <td id=\"T_e60f8_row4_col5\" class=\"data row4 col5\" >default_ubuntu_20</td>\n",
       "      <td id=\"T_e60f8_row4_col6\" class=\"data row4 col6\" >qcow2</td>\n",
       "      <td id=\"T_e60f8_row4_col7\" class=\"data row4 col7\" >ucsd-w4.fabric-testbed.net</td>\n",
       "      <td id=\"T_e60f8_row4_col8\" class=\"data row4 col8\" >UCSD</td>\n",
       "      <td id=\"T_e60f8_row4_col9\" class=\"data row4 col9\" >ubuntu</td>\n",
       "      <td id=\"T_e60f8_row4_col10\" class=\"data row4 col10\" >132.249.252.157</td>\n",
       "      <td id=\"T_e60f8_row4_col11\" class=\"data row4 col11\" >Active</td>\n",
       "      <td id=\"T_e60f8_row4_col12\" class=\"data row4 col12\" ></td>\n",
       "      <td id=\"T_e60f8_row4_col13\" class=\"data row4 col13\" >ssh -i /home/fabric/work/fabric_config/slice_key -F /home/fabric/work/fabric_config/ssh_config ubuntu@132.249.252.157</td>\n",
       "      <td id=\"T_e60f8_row4_col14\" class=\"data row4 col14\" >/home/fabric/work/fabric_config/slice_key.pub</td>\n",
       "      <td id=\"T_e60f8_row4_col15\" class=\"data row4 col15\" >/home/fabric/work/fabric_config/slice_key</td>\n",
       "    </tr>\n",
       "    <tr>\n",
       "      <td id=\"T_e60f8_row5_col0\" class=\"data row5 col0\" >b0cec383-efcb-4135-a544-bb5e045443dc</td>\n",
       "      <td id=\"T_e60f8_row5_col1\" class=\"data row5 col1\" >switch2</td>\n",
       "      <td id=\"T_e60f8_row5_col2\" class=\"data row5 col2\" >32</td>\n",
       "      <td id=\"T_e60f8_row5_col3\" class=\"data row5 col3\" >16</td>\n",
       "      <td id=\"T_e60f8_row5_col4\" class=\"data row5 col4\" >100</td>\n",
       "      <td id=\"T_e60f8_row5_col5\" class=\"data row5 col5\" >default_ubuntu_20</td>\n",
       "      <td id=\"T_e60f8_row5_col6\" class=\"data row5 col6\" >qcow2</td>\n",
       "      <td id=\"T_e60f8_row5_col7\" class=\"data row5 col7\" >ucsd-w5.fabric-testbed.net</td>\n",
       "      <td id=\"T_e60f8_row5_col8\" class=\"data row5 col8\" >UCSD</td>\n",
       "      <td id=\"T_e60f8_row5_col9\" class=\"data row5 col9\" >ubuntu</td>\n",
       "      <td id=\"T_e60f8_row5_col10\" class=\"data row5 col10\" >132.249.252.150</td>\n",
       "      <td id=\"T_e60f8_row5_col11\" class=\"data row5 col11\" >Active</td>\n",
       "      <td id=\"T_e60f8_row5_col12\" class=\"data row5 col12\" ></td>\n",
       "      <td id=\"T_e60f8_row5_col13\" class=\"data row5 col13\" >ssh -i /home/fabric/work/fabric_config/slice_key -F /home/fabric/work/fabric_config/ssh_config ubuntu@132.249.252.150</td>\n",
       "      <td id=\"T_e60f8_row5_col14\" class=\"data row5 col14\" >/home/fabric/work/fabric_config/slice_key.pub</td>\n",
       "      <td id=\"T_e60f8_row5_col15\" class=\"data row5 col15\" >/home/fabric/work/fabric_config/slice_key</td>\n",
       "    </tr>\n",
       "    <tr>\n",
       "      <td id=\"T_e60f8_row6_col0\" class=\"data row6 col0\" >2c281cc7-2663-4144-84e0-61cd1903bf4f</td>\n",
       "      <td id=\"T_e60f8_row6_col1\" class=\"data row6 col1\" >user1</td>\n",
       "      <td id=\"T_e60f8_row6_col2\" class=\"data row6 col2\" >8</td>\n",
       "      <td id=\"T_e60f8_row6_col3\" class=\"data row6 col3\" >16</td>\n",
       "      <td id=\"T_e60f8_row6_col4\" class=\"data row6 col4\" >500</td>\n",
       "      <td id=\"T_e60f8_row6_col5\" class=\"data row6 col5\" >default_ubuntu_20</td>\n",
       "      <td id=\"T_e60f8_row6_col6\" class=\"data row6 col6\" >qcow2</td>\n",
       "      <td id=\"T_e60f8_row6_col7\" class=\"data row6 col7\" >ucsd-w5.fabric-testbed.net</td>\n",
       "      <td id=\"T_e60f8_row6_col8\" class=\"data row6 col8\" >UCSD</td>\n",
       "      <td id=\"T_e60f8_row6_col9\" class=\"data row6 col9\" >ubuntu</td>\n",
       "      <td id=\"T_e60f8_row6_col10\" class=\"data row6 col10\" >132.249.252.160</td>\n",
       "      <td id=\"T_e60f8_row6_col11\" class=\"data row6 col11\" >Active</td>\n",
       "      <td id=\"T_e60f8_row6_col12\" class=\"data row6 col12\" ></td>\n",
       "      <td id=\"T_e60f8_row6_col13\" class=\"data row6 col13\" >ssh -i /home/fabric/work/fabric_config/slice_key -F /home/fabric/work/fabric_config/ssh_config ubuntu@132.249.252.160</td>\n",
       "      <td id=\"T_e60f8_row6_col14\" class=\"data row6 col14\" >/home/fabric/work/fabric_config/slice_key.pub</td>\n",
       "      <td id=\"T_e60f8_row6_col15\" class=\"data row6 col15\" >/home/fabric/work/fabric_config/slice_key</td>\n",
       "    </tr>\n",
       "    <tr>\n",
       "      <td id=\"T_e60f8_row7_col0\" class=\"data row7 col0\" >3158baef-19d7-4585-ad98-08e6fc1b221d</td>\n",
       "      <td id=\"T_e60f8_row7_col1\" class=\"data row7 col1\" >user2</td>\n",
       "      <td id=\"T_e60f8_row7_col2\" class=\"data row7 col2\" >8</td>\n",
       "      <td id=\"T_e60f8_row7_col3\" class=\"data row7 col3\" >16</td>\n",
       "      <td id=\"T_e60f8_row7_col4\" class=\"data row7 col4\" >500</td>\n",
       "      <td id=\"T_e60f8_row7_col5\" class=\"data row7 col5\" >default_ubuntu_20</td>\n",
       "      <td id=\"T_e60f8_row7_col6\" class=\"data row7 col6\" >qcow2</td>\n",
       "      <td id=\"T_e60f8_row7_col7\" class=\"data row7 col7\" >ucsd-w5.fabric-testbed.net</td>\n",
       "      <td id=\"T_e60f8_row7_col8\" class=\"data row7 col8\" >UCSD</td>\n",
       "      <td id=\"T_e60f8_row7_col9\" class=\"data row7 col9\" >ubuntu</td>\n",
       "      <td id=\"T_e60f8_row7_col10\" class=\"data row7 col10\" >132.249.252.159</td>\n",
       "      <td id=\"T_e60f8_row7_col11\" class=\"data row7 col11\" >Active</td>\n",
       "      <td id=\"T_e60f8_row7_col12\" class=\"data row7 col12\" ></td>\n",
       "      <td id=\"T_e60f8_row7_col13\" class=\"data row7 col13\" >ssh -i /home/fabric/work/fabric_config/slice_key -F /home/fabric/work/fabric_config/ssh_config ubuntu@132.249.252.159</td>\n",
       "      <td id=\"T_e60f8_row7_col14\" class=\"data row7 col14\" >/home/fabric/work/fabric_config/slice_key.pub</td>\n",
       "      <td id=\"T_e60f8_row7_col15\" class=\"data row7 col15\" >/home/fabric/work/fabric_config/slice_key</td>\n",
       "    </tr>\n",
       "  </tbody>\n",
       "</table>\n"
      ],
      "text/plain": [
       "<pandas.io.formats.style.Styler at 0x7f74d4206080>"
      ]
     },
     "metadata": {},
     "output_type": "display_data"
    },
    {
     "data": {
      "text/html": [
       "<style type=\"text/css\">\n",
       "#T_e4964 caption {\n",
       "  text-align: center;\n",
       "  font-size: 150%;\n",
       "  caption-side: top;\n",
       "}\n",
       "#T_e4964 th {\n",
       "  text-align: left;\n",
       "}\n",
       "#T_e4964 tr:nth-child(even) {\n",
       "  background: #ffffff;\n",
       "  color: #231f20;\n",
       "}\n",
       "#T_e4964 tr:nth-child(odd) {\n",
       "  background: #dbf3ff;\n",
       "  color: #231f20;\n",
       "}\n",
       "#T_e4964 .level0 {\n",
       "  border: 1px black solid !important;\n",
       "  background: #ffffff;\n",
       "  color: #231f20;\n",
       "}\n",
       "#T_e4964_row0_col0, #T_e4964_row0_col1, #T_e4964_row0_col2, #T_e4964_row0_col3, #T_e4964_row0_col4, #T_e4964_row0_col5, #T_e4964_row0_col6, #T_e4964_row1_col0, #T_e4964_row1_col1, #T_e4964_row1_col2, #T_e4964_row1_col3, #T_e4964_row1_col4, #T_e4964_row1_col5, #T_e4964_row1_col6, #T_e4964_row2_col0, #T_e4964_row2_col1, #T_e4964_row2_col2, #T_e4964_row2_col3, #T_e4964_row2_col4, #T_e4964_row2_col5, #T_e4964_row2_col6, #T_e4964_row3_col0, #T_e4964_row3_col1, #T_e4964_row3_col2, #T_e4964_row3_col3, #T_e4964_row3_col4, #T_e4964_row3_col5, #T_e4964_row3_col6, #T_e4964_row4_col0, #T_e4964_row4_col1, #T_e4964_row4_col2, #T_e4964_row4_col3, #T_e4964_row4_col4, #T_e4964_row4_col5, #T_e4964_row4_col6, #T_e4964_row5_col0, #T_e4964_row5_col1, #T_e4964_row5_col2, #T_e4964_row5_col3, #T_e4964_row5_col4, #T_e4964_row5_col5, #T_e4964_row5_col6, #T_e4964_row6_col0, #T_e4964_row6_col1, #T_e4964_row6_col2, #T_e4964_row6_col3, #T_e4964_row6_col4, #T_e4964_row6_col5, #T_e4964_row6_col6 {\n",
       "  text-align: left;\n",
       "  border: 1px #231f20 solid !important;\n",
       "  overwrite: False;\n",
       "}\n",
       "#T_e4964_row0_col7, #T_e4964_row1_col7, #T_e4964_row2_col7, #T_e4964_row3_col7, #T_e4964_row4_col7, #T_e4964_row5_col7, #T_e4964_row6_col7 {\n",
       "  text-align: left;\n",
       "  border: 1px #231f20 solid !important;\n",
       "  overwrite: False;\n",
       "  background-color: #c3ffc4;\n",
       "}\n",
       "#T_e4964_row0_col8, #T_e4964_row1_col8, #T_e4964_row2_col8, #T_e4964_row3_col8, #T_e4964_row4_col8, #T_e4964_row5_col8, #T_e4964_row6_col8 {\n",
       "  text-align: left;\n",
       "  border: 1px #231f20 solid !important;\n",
       "  overwrite: False;\n",
       "  background-color: ;\n",
       "}\n",
       "</style>\n",
       "<table id=\"T_e4964\">\n",
       "  <caption>Networks</caption>\n",
       "  <thead>\n",
       "    <tr>\n",
       "      <th id=\"T_e4964_level0_col0\" class=\"col_heading level0 col0\" >ID</th>\n",
       "      <th id=\"T_e4964_level0_col1\" class=\"col_heading level0 col1\" >Name</th>\n",
       "      <th id=\"T_e4964_level0_col2\" class=\"col_heading level0 col2\" >Layer</th>\n",
       "      <th id=\"T_e4964_level0_col3\" class=\"col_heading level0 col3\" >Type</th>\n",
       "      <th id=\"T_e4964_level0_col4\" class=\"col_heading level0 col4\" >Site</th>\n",
       "      <th id=\"T_e4964_level0_col5\" class=\"col_heading level0 col5\" >Subnet</th>\n",
       "      <th id=\"T_e4964_level0_col6\" class=\"col_heading level0 col6\" >Gateway</th>\n",
       "      <th id=\"T_e4964_level0_col7\" class=\"col_heading level0 col7\" >State</th>\n",
       "      <th id=\"T_e4964_level0_col8\" class=\"col_heading level0 col8\" >Error</th>\n",
       "    </tr>\n",
       "  </thead>\n",
       "  <tbody>\n",
       "    <tr>\n",
       "      <td id=\"T_e4964_row0_col0\" class=\"data row0 col0\" >f20edf5b-b591-409a-9c28-2baecf814bee</td>\n",
       "      <td id=\"T_e4964_row0_col1\" class=\"data row0 col1\" >net1</td>\n",
       "      <td id=\"T_e4964_row0_col2\" class=\"data row0 col2\" >L2</td>\n",
       "      <td id=\"T_e4964_row0_col3\" class=\"data row0 col3\" >L2Bridge</td>\n",
       "      <td id=\"T_e4964_row0_col4\" class=\"data row0 col4\" >UCSD</td>\n",
       "      <td id=\"T_e4964_row0_col5\" class=\"data row0 col5\" >None</td>\n",
       "      <td id=\"T_e4964_row0_col6\" class=\"data row0 col6\" >None</td>\n",
       "      <td id=\"T_e4964_row0_col7\" class=\"data row0 col7\" >Active</td>\n",
       "      <td id=\"T_e4964_row0_col8\" class=\"data row0 col8\" ></td>\n",
       "    </tr>\n",
       "    <tr>\n",
       "      <td id=\"T_e4964_row1_col0\" class=\"data row1 col0\" >dee1263d-6ca6-422e-8925-357c7c3f0894</td>\n",
       "      <td id=\"T_e4964_row1_col1\" class=\"data row1 col1\" >net2</td>\n",
       "      <td id=\"T_e4964_row1_col2\" class=\"data row1 col2\" >L2</td>\n",
       "      <td id=\"T_e4964_row1_col3\" class=\"data row1 col3\" >L2Bridge</td>\n",
       "      <td id=\"T_e4964_row1_col4\" class=\"data row1 col4\" >UCSD</td>\n",
       "      <td id=\"T_e4964_row1_col5\" class=\"data row1 col5\" >None</td>\n",
       "      <td id=\"T_e4964_row1_col6\" class=\"data row1 col6\" >None</td>\n",
       "      <td id=\"T_e4964_row1_col7\" class=\"data row1 col7\" >Active</td>\n",
       "      <td id=\"T_e4964_row1_col8\" class=\"data row1 col8\" ></td>\n",
       "    </tr>\n",
       "    <tr>\n",
       "      <td id=\"T_e4964_row2_col0\" class=\"data row2 col0\" >36955847-a6c2-431f-9ba0-51d859ffd52a</td>\n",
       "      <td id=\"T_e4964_row2_col1\" class=\"data row2 col1\" >net3</td>\n",
       "      <td id=\"T_e4964_row2_col2\" class=\"data row2 col2\" >L2</td>\n",
       "      <td id=\"T_e4964_row2_col3\" class=\"data row2 col3\" >L2Bridge</td>\n",
       "      <td id=\"T_e4964_row2_col4\" class=\"data row2 col4\" >UCSD</td>\n",
       "      <td id=\"T_e4964_row2_col5\" class=\"data row2 col5\" >None</td>\n",
       "      <td id=\"T_e4964_row2_col6\" class=\"data row2 col6\" >None</td>\n",
       "      <td id=\"T_e4964_row2_col7\" class=\"data row2 col7\" >Active</td>\n",
       "      <td id=\"T_e4964_row2_col8\" class=\"data row2 col8\" ></td>\n",
       "    </tr>\n",
       "    <tr>\n",
       "      <td id=\"T_e4964_row3_col0\" class=\"data row3 col0\" >36720fee-8736-4259-aa1d-eab500073a3b</td>\n",
       "      <td id=\"T_e4964_row3_col1\" class=\"data row3 col1\" >net4</td>\n",
       "      <td id=\"T_e4964_row3_col2\" class=\"data row3 col2\" >L2</td>\n",
       "      <td id=\"T_e4964_row3_col3\" class=\"data row3 col3\" >L2Bridge</td>\n",
       "      <td id=\"T_e4964_row3_col4\" class=\"data row3 col4\" >UCSD</td>\n",
       "      <td id=\"T_e4964_row3_col5\" class=\"data row3 col5\" >None</td>\n",
       "      <td id=\"T_e4964_row3_col6\" class=\"data row3 col6\" >None</td>\n",
       "      <td id=\"T_e4964_row3_col7\" class=\"data row3 col7\" >Active</td>\n",
       "      <td id=\"T_e4964_row3_col8\" class=\"data row3 col8\" ></td>\n",
       "    </tr>\n",
       "    <tr>\n",
       "      <td id=\"T_e4964_row4_col0\" class=\"data row4 col0\" >cca17d8f-83d0-48d7-823b-05f249ae0984</td>\n",
       "      <td id=\"T_e4964_row4_col1\" class=\"data row4 col1\" >net5</td>\n",
       "      <td id=\"T_e4964_row4_col2\" class=\"data row4 col2\" >L2</td>\n",
       "      <td id=\"T_e4964_row4_col3\" class=\"data row4 col3\" >L2Bridge</td>\n",
       "      <td id=\"T_e4964_row4_col4\" class=\"data row4 col4\" >UCSD</td>\n",
       "      <td id=\"T_e4964_row4_col5\" class=\"data row4 col5\" >None</td>\n",
       "      <td id=\"T_e4964_row4_col6\" class=\"data row4 col6\" >None</td>\n",
       "      <td id=\"T_e4964_row4_col7\" class=\"data row4 col7\" >Active</td>\n",
       "      <td id=\"T_e4964_row4_col8\" class=\"data row4 col8\" ></td>\n",
       "    </tr>\n",
       "    <tr>\n",
       "      <td id=\"T_e4964_row5_col0\" class=\"data row5 col0\" >cb910afd-3c16-4b55-8540-428f8a1e3b80</td>\n",
       "      <td id=\"T_e4964_row5_col1\" class=\"data row5 col1\" >net6</td>\n",
       "      <td id=\"T_e4964_row5_col2\" class=\"data row5 col2\" >L2</td>\n",
       "      <td id=\"T_e4964_row5_col3\" class=\"data row5 col3\" >L2Bridge</td>\n",
       "      <td id=\"T_e4964_row5_col4\" class=\"data row5 col4\" >UCSD</td>\n",
       "      <td id=\"T_e4964_row5_col5\" class=\"data row5 col5\" >None</td>\n",
       "      <td id=\"T_e4964_row5_col6\" class=\"data row5 col6\" >None</td>\n",
       "      <td id=\"T_e4964_row5_col7\" class=\"data row5 col7\" >Active</td>\n",
       "      <td id=\"T_e4964_row5_col8\" class=\"data row5 col8\" ></td>\n",
       "    </tr>\n",
       "    <tr>\n",
       "      <td id=\"T_e4964_row6_col0\" class=\"data row6 col0\" >bc07c110-6210-4a1b-8ae5-ef4fcefddf7d</td>\n",
       "      <td id=\"T_e4964_row6_col1\" class=\"data row6 col1\" >net7</td>\n",
       "      <td id=\"T_e4964_row6_col2\" class=\"data row6 col2\" >L2</td>\n",
       "      <td id=\"T_e4964_row6_col3\" class=\"data row6 col3\" >L2Bridge</td>\n",
       "      <td id=\"T_e4964_row6_col4\" class=\"data row6 col4\" >UCSD</td>\n",
       "      <td id=\"T_e4964_row6_col5\" class=\"data row6 col5\" >None</td>\n",
       "      <td id=\"T_e4964_row6_col6\" class=\"data row6 col6\" >None</td>\n",
       "      <td id=\"T_e4964_row6_col7\" class=\"data row6 col7\" >Active</td>\n",
       "      <td id=\"T_e4964_row6_col8\" class=\"data row6 col8\" ></td>\n",
       "    </tr>\n",
       "  </tbody>\n",
       "</table>\n"
      ],
      "text/plain": [
       "<pandas.io.formats.style.Styler at 0x7f74d4204850>"
      ]
     },
     "metadata": {},
     "output_type": "display_data"
    },
    {
     "data": {
      "text/html": [
       "<style type=\"text/css\">\n",
       "#T_0cad2 caption {\n",
       "  text-align: center;\n",
       "  font-size: 150%;\n",
       "  caption-side: top;\n",
       "}\n",
       "#T_0cad2 th {\n",
       "  text-align: left;\n",
       "}\n",
       "#T_0cad2 tr:nth-child(even) {\n",
       "  background: #ffffff;\n",
       "  color: #231f20;\n",
       "}\n",
       "#T_0cad2 tr:nth-child(odd) {\n",
       "  background: #dbf3ff;\n",
       "  color: #231f20;\n",
       "}\n",
       "#T_0cad2 .level0 {\n",
       "  border: 1px black solid !important;\n",
       "  background: #ffffff;\n",
       "  color: #231f20;\n",
       "}\n",
       "#T_0cad2_row0_col0, #T_0cad2_row0_col1, #T_0cad2_row0_col2, #T_0cad2_row0_col3, #T_0cad2_row0_col4, #T_0cad2_row0_col5, #T_0cad2_row0_col6, #T_0cad2_row0_col7, #T_0cad2_row0_col8, #T_0cad2_row0_col9, #T_0cad2_row0_col10, #T_0cad2_row0_col11, #T_0cad2_row1_col0, #T_0cad2_row1_col1, #T_0cad2_row1_col2, #T_0cad2_row1_col3, #T_0cad2_row1_col4, #T_0cad2_row1_col5, #T_0cad2_row1_col6, #T_0cad2_row1_col7, #T_0cad2_row1_col8, #T_0cad2_row1_col9, #T_0cad2_row1_col10, #T_0cad2_row1_col11, #T_0cad2_row2_col0, #T_0cad2_row2_col1, #T_0cad2_row2_col2, #T_0cad2_row2_col3, #T_0cad2_row2_col4, #T_0cad2_row2_col5, #T_0cad2_row2_col6, #T_0cad2_row2_col7, #T_0cad2_row2_col8, #T_0cad2_row2_col9, #T_0cad2_row2_col10, #T_0cad2_row2_col11, #T_0cad2_row3_col0, #T_0cad2_row3_col1, #T_0cad2_row3_col2, #T_0cad2_row3_col3, #T_0cad2_row3_col4, #T_0cad2_row3_col5, #T_0cad2_row3_col6, #T_0cad2_row3_col7, #T_0cad2_row3_col8, #T_0cad2_row3_col9, #T_0cad2_row3_col10, #T_0cad2_row3_col11, #T_0cad2_row4_col0, #T_0cad2_row4_col1, #T_0cad2_row4_col2, #T_0cad2_row4_col3, #T_0cad2_row4_col4, #T_0cad2_row4_col5, #T_0cad2_row4_col6, #T_0cad2_row4_col7, #T_0cad2_row4_col8, #T_0cad2_row4_col9, #T_0cad2_row4_col10, #T_0cad2_row4_col11, #T_0cad2_row5_col0, #T_0cad2_row5_col1, #T_0cad2_row5_col2, #T_0cad2_row5_col3, #T_0cad2_row5_col4, #T_0cad2_row5_col5, #T_0cad2_row5_col6, #T_0cad2_row5_col7, #T_0cad2_row5_col8, #T_0cad2_row5_col9, #T_0cad2_row5_col10, #T_0cad2_row5_col11, #T_0cad2_row6_col0, #T_0cad2_row6_col1, #T_0cad2_row6_col2, #T_0cad2_row6_col3, #T_0cad2_row6_col4, #T_0cad2_row6_col5, #T_0cad2_row6_col6, #T_0cad2_row6_col7, #T_0cad2_row6_col8, #T_0cad2_row6_col9, #T_0cad2_row6_col10, #T_0cad2_row6_col11, #T_0cad2_row7_col0, #T_0cad2_row7_col1, #T_0cad2_row7_col2, #T_0cad2_row7_col3, #T_0cad2_row7_col4, #T_0cad2_row7_col5, #T_0cad2_row7_col6, #T_0cad2_row7_col7, #T_0cad2_row7_col8, #T_0cad2_row7_col9, #T_0cad2_row7_col10, #T_0cad2_row7_col11, #T_0cad2_row8_col0, #T_0cad2_row8_col1, #T_0cad2_row8_col2, #T_0cad2_row8_col3, #T_0cad2_row8_col4, #T_0cad2_row8_col5, #T_0cad2_row8_col6, #T_0cad2_row8_col7, #T_0cad2_row8_col8, #T_0cad2_row8_col9, #T_0cad2_row8_col10, #T_0cad2_row8_col11, #T_0cad2_row9_col0, #T_0cad2_row9_col1, #T_0cad2_row9_col2, #T_0cad2_row9_col3, #T_0cad2_row9_col4, #T_0cad2_row9_col5, #T_0cad2_row9_col6, #T_0cad2_row9_col7, #T_0cad2_row9_col8, #T_0cad2_row9_col9, #T_0cad2_row9_col10, #T_0cad2_row9_col11, #T_0cad2_row10_col0, #T_0cad2_row10_col1, #T_0cad2_row10_col2, #T_0cad2_row10_col3, #T_0cad2_row10_col4, #T_0cad2_row10_col5, #T_0cad2_row10_col6, #T_0cad2_row10_col7, #T_0cad2_row10_col8, #T_0cad2_row10_col9, #T_0cad2_row10_col10, #T_0cad2_row10_col11, #T_0cad2_row11_col0, #T_0cad2_row11_col1, #T_0cad2_row11_col2, #T_0cad2_row11_col3, #T_0cad2_row11_col4, #T_0cad2_row11_col5, #T_0cad2_row11_col6, #T_0cad2_row11_col7, #T_0cad2_row11_col8, #T_0cad2_row11_col9, #T_0cad2_row11_col10, #T_0cad2_row11_col11, #T_0cad2_row12_col0, #T_0cad2_row12_col1, #T_0cad2_row12_col2, #T_0cad2_row12_col3, #T_0cad2_row12_col4, #T_0cad2_row12_col5, #T_0cad2_row12_col6, #T_0cad2_row12_col7, #T_0cad2_row12_col8, #T_0cad2_row12_col9, #T_0cad2_row12_col10, #T_0cad2_row12_col11, #T_0cad2_row13_col0, #T_0cad2_row13_col1, #T_0cad2_row13_col2, #T_0cad2_row13_col3, #T_0cad2_row13_col4, #T_0cad2_row13_col5, #T_0cad2_row13_col6, #T_0cad2_row13_col7, #T_0cad2_row13_col8, #T_0cad2_row13_col9, #T_0cad2_row13_col10, #T_0cad2_row13_col11 {\n",
       "  text-align: left;\n",
       "  border: 1px #231f20 solid !important;\n",
       "  overwrite: False;\n",
       "}\n",
       "</style>\n",
       "<table id=\"T_0cad2\">\n",
       "  <caption>Interfaces</caption>\n",
       "  <thead>\n",
       "    <tr>\n",
       "      <th id=\"T_0cad2_level0_col0\" class=\"col_heading level0 col0\" >Name</th>\n",
       "      <th id=\"T_0cad2_level0_col1\" class=\"col_heading level0 col1\" >Short Name</th>\n",
       "      <th id=\"T_0cad2_level0_col2\" class=\"col_heading level0 col2\" >Node</th>\n",
       "      <th id=\"T_0cad2_level0_col3\" class=\"col_heading level0 col3\" >Network</th>\n",
       "      <th id=\"T_0cad2_level0_col4\" class=\"col_heading level0 col4\" >Bandwidth</th>\n",
       "      <th id=\"T_0cad2_level0_col5\" class=\"col_heading level0 col5\" >Mode</th>\n",
       "      <th id=\"T_0cad2_level0_col6\" class=\"col_heading level0 col6\" >VLAN</th>\n",
       "      <th id=\"T_0cad2_level0_col7\" class=\"col_heading level0 col7\" >MAC</th>\n",
       "      <th id=\"T_0cad2_level0_col8\" class=\"col_heading level0 col8\" >Physical Device</th>\n",
       "      <th id=\"T_0cad2_level0_col9\" class=\"col_heading level0 col9\" >Device</th>\n",
       "      <th id=\"T_0cad2_level0_col10\" class=\"col_heading level0 col10\" >IP Address</th>\n",
       "      <th id=\"T_0cad2_level0_col11\" class=\"col_heading level0 col11\" >Numa Node</th>\n",
       "    </tr>\n",
       "  </thead>\n",
       "  <tbody>\n",
       "    <tr>\n",
       "      <td id=\"T_0cad2_row0_col0\" class=\"data row0 col0\" >server1-None-p1</td>\n",
       "      <td id=\"T_0cad2_row0_col1\" class=\"data row0 col1\" >p1</td>\n",
       "      <td id=\"T_0cad2_row0_col2\" class=\"data row0 col2\" >server1</td>\n",
       "      <td id=\"T_0cad2_row0_col3\" class=\"data row0 col3\" >net1</td>\n",
       "      <td id=\"T_0cad2_row0_col4\" class=\"data row0 col4\" >100</td>\n",
       "      <td id=\"T_0cad2_row0_col5\" class=\"data row0 col5\" >config</td>\n",
       "      <td id=\"T_0cad2_row0_col6\" class=\"data row0 col6\" ></td>\n",
       "      <td id=\"T_0cad2_row0_col7\" class=\"data row0 col7\" >02:92:A0:D2:55:1B</td>\n",
       "      <td id=\"T_0cad2_row0_col8\" class=\"data row0 col8\" >enp6s0</td>\n",
       "      <td id=\"T_0cad2_row0_col9\" class=\"data row0 col9\" >enp6s0</td>\n",
       "      <td id=\"T_0cad2_row0_col10\" class=\"data row0 col10\" >None</td>\n",
       "      <td id=\"T_0cad2_row0_col11\" class=\"data row0 col11\" >4</td>\n",
       "    </tr>\n",
       "    <tr>\n",
       "      <td id=\"T_0cad2_row1_col0\" class=\"data row1 col0\" >server1-s1_net2_nic-p1</td>\n",
       "      <td id=\"T_0cad2_row1_col1\" class=\"data row1 col1\" >p1</td>\n",
       "      <td id=\"T_0cad2_row1_col2\" class=\"data row1 col2\" >server1</td>\n",
       "      <td id=\"T_0cad2_row1_col3\" class=\"data row1 col3\" >net6</td>\n",
       "      <td id=\"T_0cad2_row1_col4\" class=\"data row1 col4\" >100</td>\n",
       "      <td id=\"T_0cad2_row1_col5\" class=\"data row1 col5\" >config</td>\n",
       "      <td id=\"T_0cad2_row1_col6\" class=\"data row1 col6\" ></td>\n",
       "      <td id=\"T_0cad2_row1_col7\" class=\"data row1 col7\" >02:EA:D4:72:BF:E4</td>\n",
       "      <td id=\"T_0cad2_row1_col8\" class=\"data row1 col8\" >enp7s0</td>\n",
       "      <td id=\"T_0cad2_row1_col9\" class=\"data row1 col9\" >enp7s0</td>\n",
       "      <td id=\"T_0cad2_row1_col10\" class=\"data row1 col10\" >None</td>\n",
       "      <td id=\"T_0cad2_row1_col11\" class=\"data row1 col11\" >4</td>\n",
       "    </tr>\n",
       "    <tr>\n",
       "      <td id=\"T_0cad2_row2_col0\" class=\"data row2 col0\" >server2-None-p1</td>\n",
       "      <td id=\"T_0cad2_row2_col1\" class=\"data row2 col1\" >p1</td>\n",
       "      <td id=\"T_0cad2_row2_col2\" class=\"data row2 col2\" >server2</td>\n",
       "      <td id=\"T_0cad2_row2_col3\" class=\"data row2 col3\" >net2</td>\n",
       "      <td id=\"T_0cad2_row2_col4\" class=\"data row2 col4\" >100</td>\n",
       "      <td id=\"T_0cad2_row2_col5\" class=\"data row2 col5\" >config</td>\n",
       "      <td id=\"T_0cad2_row2_col6\" class=\"data row2 col6\" ></td>\n",
       "      <td id=\"T_0cad2_row2_col7\" class=\"data row2 col7\" >02:EF:08:B0:50:5B</td>\n",
       "      <td id=\"T_0cad2_row2_col8\" class=\"data row2 col8\" >enp6s0</td>\n",
       "      <td id=\"T_0cad2_row2_col9\" class=\"data row2 col9\" >enp6s0</td>\n",
       "      <td id=\"T_0cad2_row2_col10\" class=\"data row2 col10\" >None</td>\n",
       "      <td id=\"T_0cad2_row2_col11\" class=\"data row2 col11\" >4</td>\n",
       "    </tr>\n",
       "    <tr>\n",
       "      <td id=\"T_0cad2_row3_col0\" class=\"data row3 col0\" >user1-None-p1</td>\n",
       "      <td id=\"T_0cad2_row3_col1\" class=\"data row3 col1\" >p1</td>\n",
       "      <td id=\"T_0cad2_row3_col2\" class=\"data row3 col2\" >user1</td>\n",
       "      <td id=\"T_0cad2_row3_col3\" class=\"data row3 col3\" >net3</td>\n",
       "      <td id=\"T_0cad2_row3_col4\" class=\"data row3 col4\" >100</td>\n",
       "      <td id=\"T_0cad2_row3_col5\" class=\"data row3 col5\" >config</td>\n",
       "      <td id=\"T_0cad2_row3_col6\" class=\"data row3 col6\" ></td>\n",
       "      <td id=\"T_0cad2_row3_col7\" class=\"data row3 col7\" >0A:C1:BD:C0:9D:18</td>\n",
       "      <td id=\"T_0cad2_row3_col8\" class=\"data row3 col8\" >enp6s0</td>\n",
       "      <td id=\"T_0cad2_row3_col9\" class=\"data row3 col9\" >enp6s0</td>\n",
       "      <td id=\"T_0cad2_row3_col10\" class=\"data row3 col10\" >None</td>\n",
       "      <td id=\"T_0cad2_row3_col11\" class=\"data row3 col11\" >4</td>\n",
       "    </tr>\n",
       "    <tr>\n",
       "      <td id=\"T_0cad2_row4_col0\" class=\"data row4 col0\" >user2-None-p1</td>\n",
       "      <td id=\"T_0cad2_row4_col1\" class=\"data row4 col1\" >p1</td>\n",
       "      <td id=\"T_0cad2_row4_col2\" class=\"data row4 col2\" >user2</td>\n",
       "      <td id=\"T_0cad2_row4_col3\" class=\"data row4 col3\" >net4</td>\n",
       "      <td id=\"T_0cad2_row4_col4\" class=\"data row4 col4\" >100</td>\n",
       "      <td id=\"T_0cad2_row4_col5\" class=\"data row4 col5\" >config</td>\n",
       "      <td id=\"T_0cad2_row4_col6\" class=\"data row4 col6\" ></td>\n",
       "      <td id=\"T_0cad2_row4_col7\" class=\"data row4 col7\" >12:0B:D5:5F:B8:40</td>\n",
       "      <td id=\"T_0cad2_row4_col8\" class=\"data row4 col8\" >enp6s0</td>\n",
       "      <td id=\"T_0cad2_row4_col9\" class=\"data row4 col9\" >enp6s0</td>\n",
       "      <td id=\"T_0cad2_row4_col10\" class=\"data row4 col10\" >None</td>\n",
       "      <td id=\"T_0cad2_row4_col11\" class=\"data row4 col11\" >4</td>\n",
       "    </tr>\n",
       "    <tr>\n",
       "      <td id=\"T_0cad2_row5_col0\" class=\"data row5 col0\" >cont-None-p1</td>\n",
       "      <td id=\"T_0cad2_row5_col1\" class=\"data row5 col1\" >p1</td>\n",
       "      <td id=\"T_0cad2_row5_col2\" class=\"data row5 col2\" >cont</td>\n",
       "      <td id=\"T_0cad2_row5_col3\" class=\"data row5 col3\" >net5</td>\n",
       "      <td id=\"T_0cad2_row5_col4\" class=\"data row5 col4\" >100</td>\n",
       "      <td id=\"T_0cad2_row5_col5\" class=\"data row5 col5\" >config</td>\n",
       "      <td id=\"T_0cad2_row5_col6\" class=\"data row5 col6\" ></td>\n",
       "      <td id=\"T_0cad2_row5_col7\" class=\"data row5 col7\" >06:41:62:A3:9F:D1</td>\n",
       "      <td id=\"T_0cad2_row5_col8\" class=\"data row5 col8\" >enp6s0</td>\n",
       "      <td id=\"T_0cad2_row5_col9\" class=\"data row5 col9\" >enp6s0</td>\n",
       "      <td id=\"T_0cad2_row5_col10\" class=\"data row5 col10\" >None</td>\n",
       "      <td id=\"T_0cad2_row5_col11\" class=\"data row5 col11\" >4</td>\n",
       "    </tr>\n",
       "    <tr>\n",
       "      <td id=\"T_0cad2_row6_col0\" class=\"data row6 col0\" >server3-None-p1</td>\n",
       "      <td id=\"T_0cad2_row6_col1\" class=\"data row6 col1\" >p1</td>\n",
       "      <td id=\"T_0cad2_row6_col2\" class=\"data row6 col2\" >server3</td>\n",
       "      <td id=\"T_0cad2_row6_col3\" class=\"data row6 col3\" >net7</td>\n",
       "      <td id=\"T_0cad2_row6_col4\" class=\"data row6 col4\" >100</td>\n",
       "      <td id=\"T_0cad2_row6_col5\" class=\"data row6 col5\" >config</td>\n",
       "      <td id=\"T_0cad2_row6_col6\" class=\"data row6 col6\" ></td>\n",
       "      <td id=\"T_0cad2_row6_col7\" class=\"data row6 col7\" >16:AE:F8:09:05:1E</td>\n",
       "      <td id=\"T_0cad2_row6_col8\" class=\"data row6 col8\" >enp6s0</td>\n",
       "      <td id=\"T_0cad2_row6_col9\" class=\"data row6 col9\" >enp6s0</td>\n",
       "      <td id=\"T_0cad2_row6_col10\" class=\"data row6 col10\" >None</td>\n",
       "      <td id=\"T_0cad2_row6_col11\" class=\"data row6 col11\" >6</td>\n",
       "    </tr>\n",
       "    <tr>\n",
       "      <td id=\"T_0cad2_row7_col0\" class=\"data row7 col0\" >switch-net4_nic-p1</td>\n",
       "      <td id=\"T_0cad2_row7_col1\" class=\"data row7 col1\" >p1</td>\n",
       "      <td id=\"T_0cad2_row7_col2\" class=\"data row7 col2\" >switch</td>\n",
       "      <td id=\"T_0cad2_row7_col3\" class=\"data row7 col3\" >net4</td>\n",
       "      <td id=\"T_0cad2_row7_col4\" class=\"data row7 col4\" >100</td>\n",
       "      <td id=\"T_0cad2_row7_col5\" class=\"data row7 col5\" >config</td>\n",
       "      <td id=\"T_0cad2_row7_col6\" class=\"data row7 col6\" ></td>\n",
       "      <td id=\"T_0cad2_row7_col7\" class=\"data row7 col7\" >02:18:C1:EE:87:8F</td>\n",
       "      <td id=\"T_0cad2_row7_col8\" class=\"data row7 col8\" >enp6s0</td>\n",
       "      <td id=\"T_0cad2_row7_col9\" class=\"data row7 col9\" >enp6s0</td>\n",
       "      <td id=\"T_0cad2_row7_col10\" class=\"data row7 col10\" >None</td>\n",
       "      <td id=\"T_0cad2_row7_col11\" class=\"data row7 col11\" >4</td>\n",
       "    </tr>\n",
       "    <tr>\n",
       "      <td id=\"T_0cad2_row8_col0\" class=\"data row8 col0\" >switch-net5_nic-p1</td>\n",
       "      <td id=\"T_0cad2_row8_col1\" class=\"data row8 col1\" >p1</td>\n",
       "      <td id=\"T_0cad2_row8_col2\" class=\"data row8 col2\" >switch</td>\n",
       "      <td id=\"T_0cad2_row8_col3\" class=\"data row8 col3\" >net5</td>\n",
       "      <td id=\"T_0cad2_row8_col4\" class=\"data row8 col4\" >100</td>\n",
       "      <td id=\"T_0cad2_row8_col5\" class=\"data row8 col5\" >config</td>\n",
       "      <td id=\"T_0cad2_row8_col6\" class=\"data row8 col6\" ></td>\n",
       "      <td id=\"T_0cad2_row8_col7\" class=\"data row8 col7\" >12:79:54:77:FD:5A</td>\n",
       "      <td id=\"T_0cad2_row8_col8\" class=\"data row8 col8\" >enp9s0</td>\n",
       "      <td id=\"T_0cad2_row8_col9\" class=\"data row8 col9\" >enp9s0</td>\n",
       "      <td id=\"T_0cad2_row8_col10\" class=\"data row8 col10\" >None</td>\n",
       "      <td id=\"T_0cad2_row8_col11\" class=\"data row8 col11\" >4</td>\n",
       "    </tr>\n",
       "    <tr>\n",
       "      <td id=\"T_0cad2_row9_col0\" class=\"data row9 col0\" >switch-net1_nic-p1</td>\n",
       "      <td id=\"T_0cad2_row9_col1\" class=\"data row9 col1\" >p1</td>\n",
       "      <td id=\"T_0cad2_row9_col2\" class=\"data row9 col2\" >switch</td>\n",
       "      <td id=\"T_0cad2_row9_col3\" class=\"data row9 col3\" >net1</td>\n",
       "      <td id=\"T_0cad2_row9_col4\" class=\"data row9 col4\" >100</td>\n",
       "      <td id=\"T_0cad2_row9_col5\" class=\"data row9 col5\" >config</td>\n",
       "      <td id=\"T_0cad2_row9_col6\" class=\"data row9 col6\" ></td>\n",
       "      <td id=\"T_0cad2_row9_col7\" class=\"data row9 col7\" >02:71:50:41:EC:37</td>\n",
       "      <td id=\"T_0cad2_row9_col8\" class=\"data row9 col8\" >enp7s0</td>\n",
       "      <td id=\"T_0cad2_row9_col9\" class=\"data row9 col9\" >enp7s0</td>\n",
       "      <td id=\"T_0cad2_row9_col10\" class=\"data row9 col10\" >None</td>\n",
       "      <td id=\"T_0cad2_row9_col11\" class=\"data row9 col11\" >4</td>\n",
       "    </tr>\n",
       "    <tr>\n",
       "      <td id=\"T_0cad2_row10_col0\" class=\"data row10 col0\" >switch-net2_nic-p1</td>\n",
       "      <td id=\"T_0cad2_row10_col1\" class=\"data row10 col1\" >p1</td>\n",
       "      <td id=\"T_0cad2_row10_col2\" class=\"data row10 col2\" >switch</td>\n",
       "      <td id=\"T_0cad2_row10_col3\" class=\"data row10 col3\" >net2</td>\n",
       "      <td id=\"T_0cad2_row10_col4\" class=\"data row10 col4\" >100</td>\n",
       "      <td id=\"T_0cad2_row10_col5\" class=\"data row10 col5\" >config</td>\n",
       "      <td id=\"T_0cad2_row10_col6\" class=\"data row10 col6\" ></td>\n",
       "      <td id=\"T_0cad2_row10_col7\" class=\"data row10 col7\" >12:61:53:CB:FC:78</td>\n",
       "      <td id=\"T_0cad2_row10_col8\" class=\"data row10 col8\" >enp8s0</td>\n",
       "      <td id=\"T_0cad2_row10_col9\" class=\"data row10 col9\" >enp8s0</td>\n",
       "      <td id=\"T_0cad2_row10_col10\" class=\"data row10 col10\" >None</td>\n",
       "      <td id=\"T_0cad2_row10_col11\" class=\"data row10 col11\" >4</td>\n",
       "    </tr>\n",
       "    <tr>\n",
       "      <td id=\"T_0cad2_row11_col0\" class=\"data row11 col0\" >switch-net3_nic-p1</td>\n",
       "      <td id=\"T_0cad2_row11_col1\" class=\"data row11 col1\" >p1</td>\n",
       "      <td id=\"T_0cad2_row11_col2\" class=\"data row11 col2\" >switch</td>\n",
       "      <td id=\"T_0cad2_row11_col3\" class=\"data row11 col3\" >net3</td>\n",
       "      <td id=\"T_0cad2_row11_col4\" class=\"data row11 col4\" >100</td>\n",
       "      <td id=\"T_0cad2_row11_col5\" class=\"data row11 col5\" >config</td>\n",
       "      <td id=\"T_0cad2_row11_col6\" class=\"data row11 col6\" ></td>\n",
       "      <td id=\"T_0cad2_row11_col7\" class=\"data row11 col7\" >12:95:19:40:E9:25</td>\n",
       "      <td id=\"T_0cad2_row11_col8\" class=\"data row11 col8\" >enp10s0</td>\n",
       "      <td id=\"T_0cad2_row11_col9\" class=\"data row11 col9\" >enp10s0</td>\n",
       "      <td id=\"T_0cad2_row11_col10\" class=\"data row11 col10\" >None</td>\n",
       "      <td id=\"T_0cad2_row11_col11\" class=\"data row11 col11\" >4</td>\n",
       "    </tr>\n",
       "    <tr>\n",
       "      <td id=\"T_0cad2_row12_col0\" class=\"data row12 col0\" >switch2-sw2_net2_nic-p1</td>\n",
       "      <td id=\"T_0cad2_row12_col1\" class=\"data row12 col1\" >p1</td>\n",
       "      <td id=\"T_0cad2_row12_col2\" class=\"data row12 col2\" >switch2</td>\n",
       "      <td id=\"T_0cad2_row12_col3\" class=\"data row12 col3\" >net7</td>\n",
       "      <td id=\"T_0cad2_row12_col4\" class=\"data row12 col4\" >100</td>\n",
       "      <td id=\"T_0cad2_row12_col5\" class=\"data row12 col5\" >config</td>\n",
       "      <td id=\"T_0cad2_row12_col6\" class=\"data row12 col6\" ></td>\n",
       "      <td id=\"T_0cad2_row12_col7\" class=\"data row12 col7\" >12:2F:25:0E:E0:BF</td>\n",
       "      <td id=\"T_0cad2_row12_col8\" class=\"data row12 col8\" >enp6s0</td>\n",
       "      <td id=\"T_0cad2_row12_col9\" class=\"data row12 col9\" >enp6s0</td>\n",
       "      <td id=\"T_0cad2_row12_col10\" class=\"data row12 col10\" >None</td>\n",
       "      <td id=\"T_0cad2_row12_col11\" class=\"data row12 col11\" >4</td>\n",
       "    </tr>\n",
       "    <tr>\n",
       "      <td id=\"T_0cad2_row13_col0\" class=\"data row13 col0\" >switch2-sw2_net1_nic-p1</td>\n",
       "      <td id=\"T_0cad2_row13_col1\" class=\"data row13 col1\" >p1</td>\n",
       "      <td id=\"T_0cad2_row13_col2\" class=\"data row13 col2\" >switch2</td>\n",
       "      <td id=\"T_0cad2_row13_col3\" class=\"data row13 col3\" >net6</td>\n",
       "      <td id=\"T_0cad2_row13_col4\" class=\"data row13 col4\" >100</td>\n",
       "      <td id=\"T_0cad2_row13_col5\" class=\"data row13 col5\" >config</td>\n",
       "      <td id=\"T_0cad2_row13_col6\" class=\"data row13 col6\" ></td>\n",
       "      <td id=\"T_0cad2_row13_col7\" class=\"data row13 col7\" >12:47:E9:23:A8:3F</td>\n",
       "      <td id=\"T_0cad2_row13_col8\" class=\"data row13 col8\" >enp7s0</td>\n",
       "      <td id=\"T_0cad2_row13_col9\" class=\"data row13 col9\" >enp7s0</td>\n",
       "      <td id=\"T_0cad2_row13_col10\" class=\"data row13 col10\" >None</td>\n",
       "      <td id=\"T_0cad2_row13_col11\" class=\"data row13 col11\" >4</td>\n",
       "    </tr>\n",
       "  </tbody>\n",
       "</table>\n"
      ],
      "text/plain": [
       "<pandas.io.formats.style.Styler at 0x7f74d42d1ae0>"
      ]
     },
     "metadata": {},
     "output_type": "display_data"
    },
    {
     "name": "stdout",
     "output_type": "stream",
     "text": [
      "\n",
      "Time to print interfaces 893 seconds\n"
     ]
    }
   ],
   "source": [
    "#Submit Slice Request\n",
    "slice.submit(); "
   ]
  },
  {
   "cell_type": "code",
   "execution_count": 15,
   "id": "bc1078ff-b345-4eca-a90a-0d2197da14a7",
   "metadata": {},
   "outputs": [],
   "source": [
    "switch = slice.get_node(name=\"switch\")     \n",
    "switch.upload_file('scripts/install_bmv2.sh', 'install_bmv2.sh')\n",
    "stdout, stderr = switch.execute(f'chmod +x install_bmv2.sh &&  ./install_bmv2.sh',quiet=True)"
   ]
  },
  {
   "cell_type": "code",
   "execution_count": 16,
   "id": "97501e5a-780c-49c2-ae0c-2a47ada8fa59",
   "metadata": {},
   "outputs": [],
   "source": [
    "#2\n",
    "switch2 = slice.get_node(name=\"switch2\")     \n",
    "switch2.upload_file('scripts/install_bmv2.sh', 'install_bmv2.sh')\n",
    "stdout, stderr = switch2.execute(f'chmod +x install_bmv2.sh &&  ./install_bmv2.sh',quiet=True)"
   ]
  },
  {
   "cell_type": "code",
   "execution_count": 17,
   "id": "30c54c8d-1aa7-44c5-8cf6-2423d361a86c",
   "metadata": {},
   "outputs": [],
   "source": [
    "server1 = slice.get_node(name=\"server1\")\n",
    "server2 = slice.get_node(name=\"server2\")\n",
    "user1 = slice.get_node(name=\"user1\")\n",
    "user2 = slice.get_node(name=\"user2\")\n",
    "cont = slice.get_node(name=\"cont\")\n",
    "\n",
    "stdout, stderr = server1.execute(f'sudo apt-get install -y net-tools', quiet=True)\n",
    "stdout, stderr = server2.execute(f'sudo apt-get install -y net-tools', quiet=True)\n",
    "stdout, stderr = switch.execute(f'sudo apt-get install -y net-tools', quiet=True)\n",
    "stdout, stderr = user1.execute(f'sudo apt-get install -y net-tools', quiet=True)\n",
    "stdout, stderr = user2.execute(f'sudo apt-get install -y net-tools', quiet=True)\n",
    "stdout, stderr = cont.execute(f'sudo apt-get install -y net-tools', quiet=True)\n",
    "\n",
    "stdout, stderr = server1.execute(f'sudo apt install python3-scapy', quiet=True)\n",
    "stdout, stderr = server2.execute(f'sudo apt install python3-scapy', quiet=True)\n",
    "stdout, stderr = switch.execute(f'sudo apt install python3-scapy', quiet=True)\n",
    "stdout, stderr = user1.execute(f'sudo apt install python3-scapy', quiet=True)\n",
    "stdout, stderr = user2.execute(f'sudo apt install python3-scapy', quiet=True)\n",
    "stdout, stderr = cont.execute(f'sudo apt install python3-scapy', quiet=True)"
   ]
  },
  {
   "cell_type": "code",
   "execution_count": 18,
   "id": "20276b5e-aa7c-4506-994a-455d0ef3f974",
   "metadata": {},
   "outputs": [],
   "source": [
    "#2\n",
    "server3 = slice.get_node(name=\"server3\")\n",
    "stdout, stderr = server3.execute(f'sudo apt-get install -y net-tools', quiet=True)\n",
    "stdout, stderr = server3.execute(f'sudo apt install python3-scapy', quiet=True)\n",
    "stdout, stderr = switch2.execute(f'sudo apt install python3-scapy', quiet=True)\n",
    "stdout, stderr = switch2.execute(f'sudo apt-get install -y net-tools', quiet=True)"
   ]
  },
  {
   "cell_type": "code",
   "execution_count": 19,
   "id": "4caa0e4c-b025-48b5-80b6-c38be59a25ab",
   "metadata": {},
   "outputs": [
    {
     "name": "stdout",
     "output_type": "stream",
     "text": [
      "server1_iface: enp6s0\n",
      "server2_iface: enp6s0\n",
      "User1_iface: enp6s0\n",
      "User2_iface: enp6s0\n",
      "Cont_iface: enp6s0\n",
      "switch_iface1: enp7s0\n",
      "switch_iface2: enp8s0\n",
      "switch_iface3: enp10s0\n",
      "switch_iface4: enp6s0\n",
      "switch_iface5: enp9s0\n"
     ]
    }
   ],
   "source": [
    "node1_iface = server1.get_interface(network_name='net1') \n",
    "server1_iface_name = node1_iface.get_device_name()\n",
    "print(f'server1_iface: {server1_iface_name}')\n",
    "\n",
    "node2_iface = server2.get_interface(network_name='net2') \n",
    "server2_iface_name = node2_iface.get_device_name()\n",
    "print(f'server2_iface: {server2_iface_name}')\n",
    "\n",
    "user1_iface = user1.get_interface(network_name='net3') \n",
    "user1_iface_name = user1_iface.get_device_name()\n",
    "print(f'User1_iface: {user1_iface_name}')\n",
    "\n",
    "user2_iface = user2.get_interface(network_name='net4') \n",
    "user2_iface_name = user2_iface.get_device_name()\n",
    "print(f'User2_iface: {user2_iface_name}')\n",
    "\n",
    "cont_iface = cont.get_interface(network_name='net5') \n",
    "cont_iface_name = cont_iface.get_device_name()\n",
    "print(f'Cont_iface: {cont_iface_name}')\n",
    "\n",
    "switch_iface1 = switch.get_interface(network_name='net1') \n",
    "switch_iface1_name = switch_iface1.get_device_name()\n",
    "print(f'switch_iface1: {switch_iface1_name}')\n",
    "\n",
    "switch_iface2 = switch.get_interface(network_name='net2') \n",
    "switch_iface2_name = switch_iface2.get_device_name()\n",
    "print(f'switch_iface2: {switch_iface2_name}')\n",
    "\n",
    "switch_iface3 = switch.get_interface(network_name='net3') \n",
    "switch_iface3_name = switch_iface3.get_device_name()\n",
    "print(f'switch_iface3: {switch_iface3_name}')\n",
    "\n",
    "switch_iface4 = switch.get_interface(network_name='net4') \n",
    "switch_iface4_name = switch_iface4.get_device_name()\n",
    "print(f'switch_iface4: {switch_iface4_name}')\n",
    "\n",
    "switch_iface5 = switch.get_interface(network_name='net5') \n",
    "switch_iface5_name = switch_iface5.get_device_name()\n",
    "print(f'switch_iface5: {switch_iface5_name}')"
   ]
  },
  {
   "cell_type": "code",
   "execution_count": 20,
   "id": "479f5c49-d88a-45e3-9d33-6576235b5171",
   "metadata": {},
   "outputs": [
    {
     "name": "stdout",
     "output_type": "stream",
     "text": [
      "server1_iface2: enp7s0\n",
      "server3_iface: enp6s0\n",
      "switch2_iface1: enp7s0\n",
      "switch2_iface2: enp6s0\n"
     ]
    }
   ],
   "source": [
    "#2\n",
    "node1_iface2 = server1.get_interface(network_name='net6') \n",
    "server1_iface2_name = node1_iface2.get_device_name()\n",
    "print(f'server1_iface2: {server1_iface2_name}')\n",
    "\n",
    "node3_iface = server3.get_interface(network_name='net7') \n",
    "server3_iface_name = node3_iface.get_device_name()\n",
    "print(f'server3_iface: {server3_iface_name}')\n",
    "\n",
    "switch2_iface1 = switch2.get_interface(network_name='net6') \n",
    "switch2_iface1_name = switch2_iface1.get_device_name()\n",
    "print(f'switch2_iface1: {switch2_iface1_name}')\n",
    "\n",
    "switch2_iface2 = switch2.get_interface(network_name='net7') \n",
    "switch2_iface2_name = switch2_iface2.get_device_name()\n",
    "print(f'switch2_iface2: {switch2_iface2_name}')"
   ]
  },
  {
   "cell_type": "code",
   "execution_count": 21,
   "id": "e4cf3b94-9dc6-4713-b4b5-e92ef0c23308",
   "metadata": {},
   "outputs": [],
   "source": [
    "stdout, stderr = server1.execute(f'sudo ip link set dev {server1_iface_name} up', quiet=True)\n",
    "stdout, stderr = server2.execute(f'sudo ip link set dev {server2_iface_name} up', quiet=True)\n",
    "stdout, stderr = user1.execute(f'sudo ip link set dev {user1_iface_name} up', quiet=True)\n",
    "stdout, stderr = user2.execute(f'sudo ip link set dev {user2_iface_name} up', quiet=True)\n",
    "stdout, stderr = cont.execute(f'sudo ip link set dev {cont_iface_name} up', quiet=True)\n",
    "\n",
    "stdout, stderr = switch.execute(f'sudo ip link set dev {switch_iface1_name} up', quiet=True)\n",
    "stdout, stderr = switch.execute(f'sudo ip link set dev {switch_iface2_name} up', quiet=True)\n",
    "stdout, stderr = switch.execute(f'sudo ip link set dev {switch_iface3_name} up', quiet=True)\n",
    "stdout, stderr = switch.execute(f'sudo ip link set dev {switch_iface4_name} up', quiet=True)\n",
    "stdout, stderr = switch.execute(f'sudo ip link set dev {switch_iface5_name} up', quiet=True)"
   ]
  },
  {
   "cell_type": "code",
   "execution_count": 22,
   "id": "0f716ea6-ad16-4971-ad76-106737618c54",
   "metadata": {},
   "outputs": [],
   "source": [
    "#2\n",
    "stdout, stderr = server1.execute(f'sudo ip link set dev {server1_iface2_name} up', quiet=True)\n",
    "stdout, stderr = server3.execute(f'sudo ip link set dev {server3_iface_name} up', quiet=True)\n",
    "\n",
    "stdout, stderr = switch2.execute(f'sudo ip link set dev {switch2_iface1_name} up', quiet=True)\n",
    "stdout, stderr = switch2.execute(f'sudo ip link set dev {switch2_iface2_name} up', quiet=True)"
   ]
  },
  {
   "cell_type": "code",
   "execution_count": 23,
   "id": "38f27e9a-893c-4f22-8b84-f9c9a8a8393d",
   "metadata": {},
   "outputs": [],
   "source": [
    "server1_iface_MAC = '00:00:00:00:00:01'\n",
    "switch_iface1_MAC = '00:00:00:00:00:02'\n",
    "switch_iface2_MAC = '00:00:00:00:00:03'\n",
    "server2_iface_MAC = '00:00:00:00:00:04'\n",
    "\n",
    "user1_iface_MAC = '00:00:00:00:00:05'\n",
    "switch_iface3_MAC = '00:00:00:00:00:06'\n",
    "switch_iface4_MAC = '00:00:00:00:00:07'\n",
    "user2_iface_MAC = '00:00:00:00:00:08'\n",
    "\n",
    "switch_iface5_MAC = '00:00:00:00:00:09'\n",
    "cont_iface_MAC = '00:00:00:00:00:10'"
   ]
  },
  {
   "cell_type": "code",
   "execution_count": 24,
   "id": "f50f80e1-cc1a-400d-9fb2-36949e21052a",
   "metadata": {},
   "outputs": [],
   "source": [
    "#2 \n",
    "server1_iface2_MAC = '00:00:00:00:00:11'\n",
    "switch2_iface1_MAC = '00:00:00:00:00:12'\n",
    "switch2_iface2_MAC = '00:00:00:00:00:13'\n",
    "server3_iface_MAC = '00:00:00:00:00:14'"
   ]
  },
  {
   "cell_type": "code",
   "execution_count": 25,
   "id": "3050c580-6da0-45f7-b6a5-34ab944a8ea9",
   "metadata": {},
   "outputs": [
    {
     "name": "stdout",
     "output_type": "stream",
     "text": [
      "sudo ifconfig enp6s0 192.168.1.10/24 \n",
      "sudo ifconfig enp7s0 192.168.1.1/24 \n",
      "sudo ifconfig enp6s0 hw ether 00:00:00:00:00:01 \n",
      "sudo ifconfig enp7s0 hw ether 00:00:00:00:00:02 \n"
     ]
    }
   ],
   "source": [
    "server1_switch_subnet = \"192.168.1.0/24\"\n",
    "server1_ip = '192.168.1.10/24'\n",
    "switch_ip1 = '192.168.1.1/24'\n",
    "\n",
    "stdout, stderr = server1.execute(f'sudo ifconfig {server1_iface_name} {server1_ip}')\n",
    "stdout, stderr = switch.execute(f'sudo ifconfig {switch_iface1_name} {switch_ip1}')\n",
    "print(\"sudo ifconfig {} {} \".format(server1_iface_name,server1_ip))\n",
    "print(\"sudo ifconfig {} {} \".format(switch_iface1_name,switch_ip1))\n",
    "\n",
    "stdout, stderr = server1.execute(f'sudo ifconfig {server1_iface_name} hw ether {server1_iface_MAC}')\n",
    "stdout, stderr = switch.execute(f'sudo ifconfig {switch_iface1_name} hw ether {switch_iface1_MAC}')\n",
    "\n",
    "print(\"sudo ifconfig {} hw ether {} \".format(server1_iface_name,server1_iface_MAC))\n",
    "print(\"sudo ifconfig {} hw ether {} \".format(switch_iface1_name,switch_iface1_MAC))"
   ]
  },
  {
   "cell_type": "code",
   "execution_count": 26,
   "id": "793175ff-7a63-4e39-95c4-027635cc0e44",
   "metadata": {},
   "outputs": [
    {
     "name": "stdout",
     "output_type": "stream",
     "text": [
      "sudo ifconfig enp6s0 192.168.2.10/24 \n",
      "sudo ifconfig enp8s0 192.168.2.1/24 \n",
      "sudo ifconfig enp6s0 hw ether 00:00:00:00:00:04 \n",
      "sudo ifconfig enp8s0 hw ether 00:00:00:00:00:03 \n"
     ]
    }
   ],
   "source": [
    "server2_switch_subnet = \"192.168.2.0/24\"\n",
    "server2_ip = '192.168.2.10/24'\n",
    "switch_ip2 = '192.168.2.1/24'\n",
    "\n",
    "stdout, stderr = server2.execute(f'sudo ifconfig {server2_iface_name} {server2_ip}')\n",
    "stdout, stderr = switch.execute(f'sudo ifconfig {switch_iface2_name} {switch_ip2}')\n",
    "\n",
    "print(\"sudo ifconfig {} {} \".format(server2_iface_name,server2_ip))\n",
    "print(\"sudo ifconfig {} {} \".format(switch_iface2_name,switch_ip2))\n",
    "\n",
    "stdout, stderr = server2.execute(f'sudo ifconfig {server2_iface_name} hw ether {server2_iface_MAC}')\n",
    "stdout, stderr = switch.execute(f'sudo ifconfig {switch_iface2_name} hw ether {switch_iface2_MAC}')\n",
    "print(\"sudo ifconfig {} hw ether {} \".format(server2_iface_name,server2_iface_MAC))\n",
    "print(\"sudo ifconfig {} hw ether {} \".format(switch_iface2_name,switch_iface2_MAC))"
   ]
  },
  {
   "cell_type": "code",
   "execution_count": 27,
   "id": "fe572ae0-7324-4437-ada6-5a0d1763a6af",
   "metadata": {},
   "outputs": [
    {
     "name": "stdout",
     "output_type": "stream",
     "text": [
      "sudo ifconfig enp6s0 192.168.3.10/24 \n",
      "sudo ifconfig enp10s0 192.168.3.1/24 \n",
      "sudo ifconfig enp6s0 hw ether 00:00:00:00:00:05 \n",
      "sudo ifconfig enp10s0 hw ether 00:00:00:00:00:06 \n"
     ]
    }
   ],
   "source": [
    "user1_switch_subnet = \"192.168.3.0/24\"\n",
    "user1_ip = '192.168.3.10/24'\n",
    "switch_ip3 = '192.168.3.1/24'\n",
    "\n",
    "stdout, stderr = user1.execute(f'sudo ifconfig {user1_iface_name} {user1_ip}')\n",
    "stdout, stderr = switch.execute(f'sudo ifconfig {switch_iface3_name} {switch_ip3}')\n",
    "print(\"sudo ifconfig {} {} \".format(user1_iface_name,user1_ip))\n",
    "print(\"sudo ifconfig {} {} \".format(switch_iface3_name,switch_ip3))\n",
    "\n",
    "stdout, stderr = user1.execute(f'sudo ifconfig {user1_iface_name} hw ether {user1_iface_MAC}')\n",
    "stdout, stderr = switch.execute(f'sudo ifconfig {switch_iface3_name} hw ether {switch_iface3_MAC}')\n",
    "\n",
    "print(\"sudo ifconfig {} hw ether {} \".format(user1_iface_name,user1_iface_MAC))\n",
    "print(\"sudo ifconfig {} hw ether {} \".format(switch_iface3_name,switch_iface3_MAC))"
   ]
  },
  {
   "cell_type": "code",
   "execution_count": 28,
   "id": "8276f8cd-1dd2-408e-ad73-dda9d83d698c",
   "metadata": {},
   "outputs": [
    {
     "name": "stdout",
     "output_type": "stream",
     "text": [
      "sudo ifconfig enp6s0 192.168.4.10/24 \n",
      "sudo ifconfig enp6s0 192.168.4.1/24 \n",
      "sudo ifconfig enp6s0 hw ether 00:00:00:00:00:08 \n",
      "sudo ifconfig enp6s0 hw ether 00:00:00:00:00:07 \n"
     ]
    }
   ],
   "source": [
    "user2_switch_subnet = \"192.168.4.0/24\"\n",
    "user2_ip = '192.168.4.10/24'\n",
    "switch_ip4 = '192.168.4.1/24'\n",
    "\n",
    "stdout, stderr = user2.execute(f'sudo ifconfig {user2_iface_name} {user2_ip}')\n",
    "stdout, stderr = switch.execute(f'sudo ifconfig {switch_iface4_name} {switch_ip4}')\n",
    "print(\"sudo ifconfig {} {} \".format(user2_iface_name,user2_ip))\n",
    "print(\"sudo ifconfig {} {} \".format(switch_iface4_name,switch_ip4))\n",
    "\n",
    "stdout, stderr = user2.execute(f'sudo ifconfig {user2_iface_name} hw ether {user2_iface_MAC}')\n",
    "stdout, stderr = switch.execute(f'sudo ifconfig {switch_iface4_name} hw ether {switch_iface4_MAC}')\n",
    "\n",
    "print(\"sudo ifconfig {} hw ether {} \".format(user2_iface_name,user2_iface_MAC))\n",
    "print(\"sudo ifconfig {} hw ether {} \".format(switch_iface4_name,switch_iface4_MAC))"
   ]
  },
  {
   "cell_type": "code",
   "execution_count": 29,
   "id": "ffabba94-5c70-48f4-b62d-a5f0afb86e10",
   "metadata": {},
   "outputs": [
    {
     "name": "stdout",
     "output_type": "stream",
     "text": [
      "sudo ifconfig enp6s0 192.168.5.10/24 \n",
      "sudo ifconfig enp9s0 192.168.5.1/24 \n",
      "sudo ifconfig enp6s0 hw ether 00:00:00:00:00:10 \n",
      "sudo ifconfig enp9s0 hw ether 00:00:00:00:00:09 \n"
     ]
    }
   ],
   "source": [
    "cont_switch_subnet = \"192.168.5.0/24\"\n",
    "cont_ip = '192.168.5.10/24'\n",
    "switch_ip5 = '192.168.5.1/24'\n",
    "\n",
    "stdout, stderr = cont.execute(f'sudo ifconfig {cont_iface_name} {cont_ip}')\n",
    "stdout, stderr = switch.execute(f'sudo ifconfig {switch_iface5_name} {switch_ip5}')\n",
    "print(\"sudo ifconfig {} {} \".format(cont_iface_name,cont_ip))\n",
    "print(\"sudo ifconfig {} {} \".format(switch_iface5_name,switch_ip5))\n",
    "\n",
    "stdout, stderr = cont.execute(f'sudo ifconfig {cont_iface_name} hw ether {cont_iface_MAC}')\n",
    "stdout, stderr = switch.execute(f'sudo ifconfig {switch_iface5_name} hw ether {switch_iface5_MAC}')\n",
    "\n",
    "print(\"sudo ifconfig {} hw ether {} \".format(cont_iface_name,cont_iface_MAC))\n",
    "print(\"sudo ifconfig {} hw ether {} \".format(switch_iface5_name,switch_iface5_MAC))"
   ]
  },
  {
   "cell_type": "code",
   "execution_count": 30,
   "id": "790457e9-3604-47e6-9b3a-712557985bd6",
   "metadata": {},
   "outputs": [
    {
     "name": "stdout",
     "output_type": "stream",
     "text": [
      "sudo ifconfig enp7s0 192.168.8.10/24 \n",
      "sudo ifconfig enp7s0 192.168.8.1/24 \n",
      "sudo ifconfig enp7s0 hw ether 00:00:00:00:00:11 \n",
      "sudo ifconfig enp7s0 hw ether 00:00:00:00:00:12 \n"
     ]
    }
   ],
   "source": [
    "#2 This is important\n",
    "server1_switch2_subnet = \"192.168.8.0/24\"\n",
    "server1_ip2 = '192.168.8.10/24'\n",
    "switch2_ip1 = '192.168.8.1/24'\n",
    "\n",
    "stdout, stderr = server1.execute(f'sudo ifconfig {server1_iface2_name} {server1_ip2}')\n",
    "stdout, stderr = switch2.execute(f'sudo ifconfig {switch2_iface1_name} {switch2_ip1}')\n",
    "print(\"sudo ifconfig {} {} \".format(server1_iface2_name,server1_ip2))\n",
    "print(\"sudo ifconfig {} {} \".format(switch2_iface1_name,switch2_ip1))\n",
    "\n",
    "stdout, stderr = server1.execute(f'sudo ifconfig {server1_iface2_name} hw ether {server1_iface2_MAC}')\n",
    "stdout, stderr = switch2.execute(f'sudo ifconfig {switch2_iface1_name} hw ether {switch2_iface1_MAC}')\n",
    "\n",
    "print(\"sudo ifconfig {} hw ether {} \".format(server1_iface2_name,server1_iface2_MAC))\n",
    "print(\"sudo ifconfig {} hw ether {} \".format(switch2_iface1_name,switch2_iface1_MAC))"
   ]
  },
  {
   "cell_type": "code",
   "execution_count": 31,
   "id": "d2316488-46a5-424a-85b6-9b8ca4bbe9c2",
   "metadata": {},
   "outputs": [
    {
     "name": "stdout",
     "output_type": "stream",
     "text": [
      "sudo ifconfig enp6s0 192.168.7.10/24 \n",
      "sudo ifconfig enp6s0 192.168.7.1/24 \n",
      "sudo ifconfig enp6s0 hw ether 00:00:00:00:00:14 \n",
      "sudo ifconfig enp6s0 hw ether 00:00:00:00:00:13 \n"
     ]
    }
   ],
   "source": [
    "#2\n",
    "server3_switch_subnet = \"192.168.7.0/24\"\n",
    "server3_ip = '192.168.7.10/24'\n",
    "switch2_ip2 = '192.168.7.1/24'\n",
    "\n",
    "stdout, stderr = server3.execute(f'sudo ifconfig {server3_iface_name} {server3_ip}')\n",
    "stdout, stderr = switch2.execute(f'sudo ifconfig {switch2_iface2_name} {switch2_ip2}')\n",
    "\n",
    "print(\"sudo ifconfig {} {} \".format(server3_iface_name,server3_ip))\n",
    "print(\"sudo ifconfig {} {} \".format(switch2_iface2_name,switch2_ip2))\n",
    "\n",
    "stdout, stderr = server3.execute(f'sudo ifconfig {server3_iface_name} hw ether {server3_iface_MAC}')\n",
    "stdout, stderr = switch2.execute(f'sudo ifconfig {switch2_iface2_name} hw ether {switch2_iface2_MAC}')\n",
    "print(\"sudo ifconfig {} hw ether {} \".format(server3_iface_name,server3_iface_MAC))\n",
    "print(\"sudo ifconfig {} hw ether {} \".format(switch2_iface2_name,switch2_iface2_MAC))\n",
    "\n",
    "#sudo ifconfig enp6s0 192.168.2.10/24 \n",
    "#sudo ifconfig enp6s0 192.168.2.1/24 \n",
    "#sudo ifconfig enp6s0 hw ether 00:00:00:00:00:04 \n",
    "#sudo ifconfig enp6s0 hw ether 00:00:00:00:00:03 "
   ]
  },
  {
   "cell_type": "code",
   "execution_count": 32,
   "id": "f755dd35-ea73-4e6d-8568-94e69656bffe",
   "metadata": {},
   "outputs": [],
   "source": [
    "stdout, stderr = switch.execute('sudo sysctl -w net.ipv4.ip_forward=1' , quiet=True)"
   ]
  },
  {
   "cell_type": "code",
   "execution_count": 33,
   "id": "7d3cf1aa-e1e3-4aef-bca6-f148f2106e3d",
   "metadata": {},
   "outputs": [],
   "source": [
    "stdout, stderr = switch2.execute('sudo sysctl -w net.ipv4.ip_forward=1' , quiet=True)"
   ]
  },
  {
   "cell_type": "code",
   "execution_count": 34,
   "id": "882a4a7b-514d-4452-8def-801e5bd020e1",
   "metadata": {},
   "outputs": [
    {
     "name": "stdout",
     "output_type": "stream",
     "text": [
      "sudo ip route del 192.168.1.0/24 \n",
      "sudo ip route del 192.168.2.0/24 \n",
      "sudo ip route del 192.168.3.0/24 \n",
      "sudo ip route del 192.168.4.0/24 \n",
      "sudo ip route del 192.168.5.0/24 \n"
     ]
    }
   ],
   "source": [
    "stdout, stderr = switch.execute(f'sudo ip route del {server1_switch_subnet}', quiet=True)\n",
    "stdout, stderr = switch.execute(f'sudo ip route del {server2_switch_subnet}', quiet=True)\n",
    "stdout, stderr = switch.execute(f'sudo ip route del {user1_switch_subnet}', quiet=True)\n",
    "stdout, stderr = switch.execute(f'sudo ip route del {user2_switch_subnet}', quiet=True)\n",
    "stdout, stderr = switch.execute(f'sudo ip route del {cont_switch_subnet}', quiet=True)\n",
    "\n",
    "print(\"sudo ip route del {} \".format(server1_switch_subnet))\n",
    "print(\"sudo ip route del {} \".format(server2_switch_subnet))\n",
    "print(\"sudo ip route del {} \".format(user1_switch_subnet))\n",
    "print(\"sudo ip route del {} \".format(user2_switch_subnet))\n",
    "print(\"sudo ip route del {} \".format(cont_switch_subnet))"
   ]
  },
  {
   "cell_type": "code",
   "execution_count": 35,
   "id": "c142faf1-b870-471e-90e3-4683498b08cd",
   "metadata": {},
   "outputs": [
    {
     "name": "stdout",
     "output_type": "stream",
     "text": [
      "sudo ip route del 192.168.8.0/24 \n",
      "sudo ip route del 192.168.7.0/24 \n"
     ]
    }
   ],
   "source": [
    "#2 \n",
    "stdout, stderr = switch2.execute(f'sudo ip route del {server1_switch2_subnet}', quiet=True)\n",
    "stdout, stderr = switch2.execute(f'sudo ip route del {server3_switch_subnet}', quiet=True)\n",
    "print(\"sudo ip route del {} \".format(server1_switch2_subnet))\n",
    "print(\"sudo ip route del {} \".format(server3_switch_subnet))"
   ]
  },
  {
   "cell_type": "code",
   "execution_count": 36,
   "id": "f53cc2f6-d107-4c05-9c30-5e4dbb6466de",
   "metadata": {},
   "outputs": [
    {
     "name": "stdout",
     "output_type": "stream",
     "text": [
      "sudo ip route add 192.168.2.0/24 via 192.168.1.1 \n",
      "sudo ip route add 192.168.1.0/24 via 192.168.2.1 \n",
      "sudo ip route add 192.168.4.0/24 via 192.168.3.1 \n",
      "sudo ip route add 192.168.3.0/24 via 192.168.4.1 \n",
      "sudo ip route add 192.168.5.0/24 via 192.168.5.1 \n"
     ]
    }
   ],
   "source": [
    "gw1 = switch_ip1.split('/')[0] # gw1 -> 192.168.1.1 \n",
    "gw2 = switch_ip2.split('/')[0] # gw2 -> 192.168.2.1\n",
    "gw3 = switch_ip3.split('/')[0] # gw3 -> 192.168.3.1 \n",
    "gw4 = switch_ip4.split('/')[0] # gw4 -> 192.168.4.1\n",
    "gw5 = switch_ip5.split('/')[0] # gw5 -> 192.168.5.1\n",
    "\n",
    "stdout, stderr = server1.execute(f'sudo ip route add {server2_switch_subnet} via {gw1}')\n",
    "stdout, stderr = server1.execute(f'sudo ip route add {user1_switch_subnet} via {gw1}')\n",
    "stdout, stderr = server1.execute(f'sudo ip route add {user2_switch_subnet} via {gw1}')\n",
    "stdout, stderr = server1.execute(f'sudo ip route add {cont_switch_subnet} via {gw1}')\n",
    "\n",
    "stdout, stderr = server2.execute(f'sudo ip route add {server1_switch_subnet} via {gw2}')\n",
    "stdout, stderr = server2.execute(f'sudo ip route add {user1_switch_subnet} via {gw2}')\n",
    "stdout, stderr = server2.execute(f'sudo ip route add {user2_switch_subnet} via {gw2}')\n",
    "stdout, stderr = server2.execute(f'sudo ip route add {cont_switch_subnet} via {gw2}')\n",
    "\n",
    "stdout, stderr = user1.execute(f'sudo ip route add {user2_switch_subnet} via {gw3}')\n",
    "stdout, stderr = user1.execute(f'sudo ip route add {server1_switch_subnet} via {gw3}')\n",
    "stdout, stderr = user1.execute(f'sudo ip route add {server2_switch_subnet} via {gw3}')\n",
    "stdout, stderr = user1.execute(f'sudo ip route add {cont_switch_subnet} via {gw3}')\n",
    "\n",
    "stdout, stderr = user2.execute(f'sudo ip route add {user1_switch_subnet} via {gw4}')\n",
    "stdout, stderr = user2.execute(f'sudo ip route add {server1_switch_subnet} via {gw4}')\n",
    "stdout, stderr = user2.execute(f'sudo ip route add {server2_switch_subnet} via {gw4}')\n",
    "stdout, stderr = user2.execute(f'sudo ip route add {cont_switch_subnet} via {gw4}')\n",
    "\n",
    "stdout, stderr = cont.execute(f'sudo ip route add {server1_switch_subnet} via {gw5}')\n",
    "stdout, stderr = cont.execute(f'sudo ip route add {server2_switch_subnet} via {gw5}')\n",
    "stdout, stderr = cont.execute(f'sudo ip route add {user1_switch_subnet} via {gw5}')\n",
    "stdout, stderr = cont.execute(f'sudo ip route add {user2_switch_subnet} via {gw5}')\n",
    "\n",
    "print(\"sudo ip route add {} via {} \".format(server2_switch_subnet,gw1))\n",
    "print(\"sudo ip route add {} via {} \".format(server1_switch_subnet,gw2))\n",
    "print(\"sudo ip route add {} via {} \".format(user2_switch_subnet,gw3))\n",
    "print(\"sudo ip route add {} via {} \".format(user1_switch_subnet,gw4))\n",
    "print(\"sudo ip route add {} via {} \".format(cont_switch_subnet,gw5))"
   ]
  },
  {
   "cell_type": "code",
   "execution_count": 37,
   "id": "616293de-3788-47f3-8110-4d236ddee642",
   "metadata": {},
   "outputs": [
    {
     "name": "stdout",
     "output_type": "stream",
     "text": [
      "sudo ip route add 192.168.7.0/24 via 192.168.8.1 dev enp7s0\n",
      "sudo ip route add 192.168.7.0/24 via 192.168.7.1 dev enp6s0 \n"
     ]
    }
   ],
   "source": [
    "#2 \n",
    "gw6 = switch2_ip1.split('/')[0] # gw1 -> 192.168.1.1 \n",
    "gw7 = switch2_ip2.split('/')[0] # gw2 -> 192.168.7.1\n",
    "stdout, stderr = server1.execute(f'sudo ip route add {server3_switch_subnet} via {gw6} dev {server1_iface2_name}')\n",
    "stdout, stderr = server3.execute(f'sudo ip route add {server1_switch2_subnet} via {gw7} dev {server3_iface_name}')\n",
    "print(\"sudo ip route add {} via {} dev {}\".format(server3_switch_subnet,gw6,server1_iface2_name))\n",
    "print(\"sudo ip route add {} via {} dev {} \".format(server3_switch_subnet,gw7,server3_iface_name))"
   ]
  },
  {
   "cell_type": "code",
   "execution_count": 38,
   "id": "d890422e-7a69-42db-963f-1b01a795bd7d",
   "metadata": {},
   "outputs": [
    {
     "name": "stdout",
     "output_type": "stream",
     "text": [
      " sudo arp -s 192.168.1.1 00:00:00:00:00:02 \n",
      " sudo arp -s 192.168.2.1 00:00:00:00:00:03 \n",
      " sudo arp -s 192.168.3.1 00:00:00:00:00:06 \n",
      " sudo arp -s 192.168.4.1 00:00:00:00:00:07 \n",
      " sudo arp -s 192.168.5.1 00:00:00:00:00:09 \n"
     ]
    }
   ],
   "source": [
    "stdout, stderr = server1.execute(f'sudo arp -s {gw1} {switch_iface1_MAC}')\n",
    "stdout, stderr = server2.execute(f'sudo arp -s {gw2} {switch_iface2_MAC}')\n",
    "stdout, stderr = user1.execute(f'sudo arp -s {gw3} {switch_iface3_MAC}')\n",
    "stdout, stderr = user2.execute(f'sudo arp -s {gw4} {switch_iface4_MAC}')\n",
    "stdout, stderr = cont.execute(f'sudo arp -s {gw5} {switch_iface5_MAC}')\n",
    "\n",
    "print(\" sudo arp -s {} {} \".format(gw1,switch_iface1_MAC))\n",
    "print(\" sudo arp -s {} {} \".format(gw2,switch_iface2_MAC))\n",
    "print(\" sudo arp -s {} {} \".format(gw3,switch_iface3_MAC))\n",
    "print(\" sudo arp -s {} {} \".format(gw4,switch_iface4_MAC))\n",
    "print(\" sudo arp -s {} {} \".format(gw5,switch_iface5_MAC))"
   ]
  },
  {
   "cell_type": "code",
   "execution_count": 39,
   "id": "a11fbc31-9ff2-4863-b46f-b83cb1bf596d",
   "metadata": {},
   "outputs": [
    {
     "name": "stdout",
     "output_type": "stream",
     "text": [
      " sudo arp -s 192.168.8.1 00:00:00:00:00:12 dev enp7s0\n",
      " sudo arp -s 192.168.7.1 00:00:00:00:00:13 \n"
     ]
    }
   ],
   "source": [
    "#2 How to ARP on certain ethernet device ? \n",
    "stdout, stderr = server1.execute(f'sudo arp -s {gw6} {switch2_iface1_MAC} dev {server1_iface2_name}')\n",
    "stdout, stderr = server3.execute(f'sudo arp -s {gw7} {switch2_iface2_MAC}')\n",
    "\n",
    "print(\" sudo arp -s {} {} dev {}\".format(gw6,switch2_iface1_MAC,server1_iface2_name))\n",
    "print(\" sudo arp -s {} {} \".format(gw7,switch2_iface2_MAC))"
   ]
  },
  {
   "cell_type": "code",
   "execution_count": 40,
   "id": "64eb8db4-f7ee-4e7a-a5b9-f7e18fbada77",
   "metadata": {},
   "outputs": [
    {
     "name": "stdout",
     "output_type": "stream",
     "text": [
      "Calling target program-options parser\n",
      "Adding interface enp7s0 as port 0\n",
      "Adding interface enp8s0 as port 1\n",
      "Adding interface enp10s0 as port 2\n",
      "Adding interface enp6s0 as port 3\n",
      "Adding interface enp9s0 as port 4\n"
     ]
    }
   ],
   "source": [
    "switch.upload_file('labs_files/lab1/main.p4', 'main.p4')\n",
    "stdout, stderr = switch.execute(f'p4c main.p4')\n",
    "stdout, stderr = switch.execute(f'sudo pkill simple_switch')\n",
    "stdout, stderr = switch.execute(f'sudo simple_switch -i 0@{switch_iface1_name} -i 1@{switch_iface2_name} -i 2@{switch_iface3_name} -i 3@{switch_iface4_name} -i 4@{switch_iface5_name} main.json &')"
   ]
  },
  {
   "cell_type": "code",
   "execution_count": 41,
   "id": "afa4fb5f-05cb-4cd4-a5b3-3a888f4c6c6f",
   "metadata": {},
   "outputs": [
    {
     "name": "stdout",
     "output_type": "stream",
     "text": [
      "Calling target program-options parser\n",
      "Adding interface enp7s0 as port 0\n",
      "Adding interface enp6s0 as port 1\n"
     ]
    }
   ],
   "source": [
    "#2\n",
    "switch2.upload_file('labs_files/lab1/main.p4', 'main.p4')\n",
    "stdout, stderr = switch2.execute(f'p4c main.p4')\n",
    "stdout, stderr = switch2.execute(f'sudo pkill simple_switch')\n",
    "stdout, stderr = switch2.execute(f'sudo simple_switch -i 0@{switch2_iface1_name} -i 1@{switch2_iface2_name}  main.json &')"
   ]
  },
  {
   "cell_type": "code",
   "execution_count": 42,
   "id": "4e88d39c-64be-416e-834e-8a694104ac5e",
   "metadata": {},
   "outputs": [
    {
     "name": "stdout",
     "output_type": "stream",
     "text": [
      "Obtaining JSON from switch...\n",
      "Done\n",
      "Control utility for runtime P4 table manipulation\n",
      "RuntimeCmd: Adding entry to lpm match table MyIngress.ipv4_lpm\n",
      "match key:           LPM-c0:a8:01:00/24\n",
      "action:              MyIngress.forward\n",
      "runtime data:        00:00:00:00:00:01\t00:00\n",
      "Entry has been added with handle 0\n",
      "RuntimeCmd: \n",
      "Obtaining JSON from switch...\n",
      "Done\n",
      "Control utility for runtime P4 table manipulation\n",
      "RuntimeCmd: Adding entry to lpm match table MyIngress.ipv4_lpm\n",
      "match key:           LPM-c0:a8:02:00/24\n",
      "action:              MyIngress.forward\n",
      "runtime data:        00:00:00:00:00:04\t00:01\n",
      "Entry has been added with handle 1\n",
      "RuntimeCmd: \n",
      "Obtaining JSON from switch...\n",
      "Done\n",
      "Control utility for runtime P4 table manipulation\n",
      "RuntimeCmd: Adding entry to lpm match table MyIngress.ipv4_lpm\n",
      "match key:           LPM-c0:a8:03:00/24\n",
      "action:              MyIngress.forward\n",
      "runtime data:        00:00:00:00:00:05\t00:02\n",
      "Entry has been added with handle 2\n",
      "RuntimeCmd: \n",
      "Obtaining JSON from switch...\n",
      "Done\n",
      "Control utility for runtime P4 table manipulation\n",
      "RuntimeCmd: Adding entry to lpm match table MyIngress.ipv4_lpm\n",
      "match key:           LPM-c0:a8:04:00/24\n",
      "action:              MyIngress.forward\n",
      "runtime data:        00:00:00:00:00:08\t00:03\n",
      "Entry has been added with handle 3\n",
      "RuntimeCmd: \n",
      "Obtaining JSON from switch...\n",
      "Done\n",
      "Control utility for runtime P4 table manipulation\n",
      "RuntimeCmd: Adding entry to lpm match table MyIngress.ipv4_lpm\n",
      "match key:           LPM-c0:a8:05:00/24\n",
      "action:              MyIngress.forward\n",
      "runtime data:        00:00:00:00:00:10\t00:04\n",
      "Entry has been added with handle 4\n",
      "RuntimeCmd: \n"
     ]
    }
   ],
   "source": [
    "stdout, stderr = switch.execute('sudo rm 5sr.sh' , quiet=True)\n",
    "switch.upload_file('labs_files/lab1/5sr.sh', '5sr.sh')\n",
    "stdout, stderr = switch.execute('chmod +x 5sr.sh && ./5sr.sh')"
   ]
  },
  {
   "cell_type": "code",
   "execution_count": 43,
   "id": "6732cad0-dae4-44cd-8684-806203578471",
   "metadata": {},
   "outputs": [
    {
     "name": "stdout",
     "output_type": "stream",
     "text": [
      "Obtaining JSON from switch...\n",
      "Done\n",
      "Control utility for runtime P4 table manipulation\n",
      "RuntimeCmd: Adding entry to lpm match table MyIngress.ipv4_lpm\n",
      "match key:           LPM-c0:a8:08:00/24\n",
      "action:              MyIngress.forward\n",
      "runtime data:        00:00:00:00:00:11\t00:00\n",
      "Entry has been added with handle 0\n",
      "RuntimeCmd: \n",
      "Obtaining JSON from switch...\n",
      "Done\n",
      "Control utility for runtime P4 table manipulation\n",
      "RuntimeCmd: Adding entry to lpm match table MyIngress.ipv4_lpm\n",
      "match key:           LPM-c0:a8:07:00/24\n",
      "action:              MyIngress.forward\n",
      "runtime data:        00:00:00:00:00:14\t00:01\n",
      "Entry has been added with handle 1\n",
      "RuntimeCmd: \n"
     ]
    }
   ],
   "source": [
    "#2\n",
    "stdout, stderr = switch2.execute('sudo rm 25sr.sh' , quiet=True)\n",
    "switch2.upload_file('labs_files/lab1/25sr.sh', '25sr.sh')\n",
    "stdout, stderr = switch2.execute('chmod +x 25sr.sh && ./25sr.sh')"
   ]
  },
  {
   "cell_type": "code",
   "execution_count": 44,
   "id": "8ad4b18c-1ca6-461a-b505-5a0f65a59355",
   "metadata": {},
   "outputs": [
    {
     "name": "stdout",
     "output_type": "stream",
     "text": [
      "PING 192.168.2.10 (192.168.2.10) 56(84) bytes of data.\n",
      "64 bytes from 192.168.2.10: icmp_seq=1 ttl=63 time=1.32 ms\n",
      "64 bytes from 192.168.2.10: icmp_seq=2 ttl=63 time=0.692 ms\n",
      "64 bytes from 192.168.2.10: icmp_seq=3 ttl=63 time=0.649 ms\n",
      "\n",
      "--- 192.168.2.10 ping statistics ---\n",
      "3 packets transmitted, 3 received, 0% packet loss, time 2026ms\n",
      "rtt min/avg/max/mdev = 0.649/0.887/1.322/0.307 ms\n"
     ]
    }
   ],
   "source": [
    "server2_dest_ip = server2_ip.split('/')[0]\n",
    "stdout, stderr = server1.execute(f'ping {server2_dest_ip} -c 3')"
   ]
  },
  {
   "cell_type": "code",
   "execution_count": 45,
   "id": "3eb817b6-5295-4e3c-8c6b-17bc0ca2f977",
   "metadata": {},
   "outputs": [
    {
     "name": "stdout",
     "output_type": "stream",
     "text": [
      "PING 192.168.5.10 (192.168.5.10) 56(84) bytes of data.\n",
      "64 bytes from 192.168.5.10: icmp_seq=1 ttl=63 time=1.19 ms\n",
      "64 bytes from 192.168.5.10: icmp_seq=2 ttl=63 time=0.565 ms\n",
      "64 bytes from 192.168.5.10: icmp_seq=3 ttl=63 time=0.552 ms\n",
      "\n",
      "--- 192.168.5.10 ping statistics ---\n",
      "3 packets transmitted, 3 received, 0% packet loss, time 2018ms\n",
      "rtt min/avg/max/mdev = 0.552/0.769/1.192/0.298 ms\n"
     ]
    }
   ],
   "source": [
    "cont_dest_ip = cont_ip.split('/')[0]\n",
    "stdout, stderr = user2.execute(f'ping {cont_dest_ip} -c 3')"
   ]
  },
  {
   "cell_type": "code",
   "execution_count": 46,
   "id": "480a3da4-a995-4a30-9351-7b27ecdd19ab",
   "metadata": {},
   "outputs": [
    {
     "name": "stdout",
     "output_type": "stream",
     "text": [
      "User2 dest ip = 192.168.4.10\n",
      "PING 192.168.4.10 (192.168.4.10) 56(84) bytes of data.\n",
      "64 bytes from 192.168.4.10: icmp_seq=1 ttl=63 time=1.08 ms\n",
      "64 bytes from 192.168.4.10: icmp_seq=2 ttl=63 time=0.554 ms\n",
      "64 bytes from 192.168.4.10: icmp_seq=3 ttl=63 time=0.627 ms\n",
      "\n",
      "--- 192.168.4.10 ping statistics ---\n",
      "3 packets transmitted, 3 received, 0% packet loss, time 2004ms\n",
      "rtt min/avg/max/mdev = 0.554/0.753/1.078/0.231 ms\n"
     ]
    }
   ],
   "source": [
    "user2_dest_ip = user2_ip.split('/')[0]\n",
    "print(f'User2 dest ip = {user2_dest_ip}')\n",
    "stdout, stderr = user1.execute(f'ping {user2_dest_ip} -c 3')"
   ]
  },
  {
   "cell_type": "code",
   "execution_count": 47,
   "id": "41bbad23-7e29-42ea-8275-aeff38974577",
   "metadata": {},
   "outputs": [],
   "source": [
    "switch.upload_file('scripts/simple_switch_hp.gz', '/home/ubuntu/simple_switch_hp.gz')\n",
    "switch.execute('gzip -d simple_switch_hp.gz')\n",
    "switch.execute('chmod +x /home/ubuntu/simple_switch_hp')\n",
    "stdout, stderr = switch.execute(f'sudo pkill switch')"
   ]
  },
  {
   "cell_type": "code",
   "execution_count": 48,
   "id": "cffe6e09-32d7-4a69-b9a5-71e69237b512",
   "metadata": {},
   "outputs": [],
   "source": [
    "#2\n",
    "switch2.upload_file('scripts/simple_switch_hp.gz', '/home/ubuntu/simple_switch_hp.gz')\n",
    "switch2.execute('gzip -d simple_switch_hp.gz')\n",
    "switch2.execute('chmod +x /home/ubuntu/simple_switch_hp')\n",
    "stdout, stderr = switch2.execute(f'sudo pkill switch')"
   ]
  },
  {
   "cell_type": "code",
   "execution_count": 49,
   "id": "66d47fe5-8060-4d93-b95f-c404067d9b5e",
   "metadata": {},
   "outputs": [],
   "source": [
    "switch.upload_file('scripts/disable_offload.sh', 'disable_offload.sh')\n",
    "stdout, stderr = switch.execute(f'sudo chmod +x ./disable_offload.sh && sudo ./disable_offload.sh {switch_iface1_name}', quiet=True)\n",
    "stdout, stderr = switch.execute(f'sudo chmod +x ./disable_offload.sh && sudo ./disable_offload.sh {switch_iface2_name}', quiet=True)\n",
    "stdout, stderr = switch.execute(f'sudo chmod +x ./disable_offload.sh && sudo ./disable_offload.sh {switch_iface3_name}', quiet=True)\n",
    "stdout, stderr = switch.execute(f'sudo chmod +x ./disable_offload.sh && sudo ./disable_offload.sh {switch_iface4_name}', quiet=True)\n",
    "stdout, stderr = switch.execute(f'sudo chmod +x ./disable_offload.sh && sudo ./disable_offload.sh {switch_iface5_name}', quiet=True)"
   ]
  },
  {
   "cell_type": "code",
   "execution_count": 50,
   "id": "dc3bb10e-6232-4227-84a2-37eef8966b8c",
   "metadata": {},
   "outputs": [],
   "source": [
    "#2\n",
    "switch2.upload_file('scripts/disable_offload.sh', 'disable_offload.sh')\n",
    "stdout, stderr = switch2.execute(f'sudo chmod +x ./disable_offload.sh && sudo ./disable_offload.sh {switch2_iface1_name}', quiet=True)\n",
    "stdout, stderr = switch2.execute(f'sudo chmod +x ./disable_offload.sh && sudo ./disable_offload.sh {switch2_iface2_name}', quiet=True)"
   ]
  },
  {
   "cell_type": "code",
   "execution_count": 51,
   "id": "d24a95f6-f15b-43ed-9498-c113d71c7af9",
   "metadata": {},
   "outputs": [
    {
     "name": "stdout",
     "output_type": "stream",
     "text": [
      "Calling target program-options parser\n",
      "Adding interface enp7s0 as port 0\n",
      "Adding interface enp8s0 as port 1\n",
      "Adding interface enp10s0 as port 2\n",
      "Adding interface enp6s0 as port 3\n",
      "Adding interface enp9s0 as port 4\n",
      "Obtaining JSON from switch...\n",
      "Done\n",
      "Control utility for runtime P4 table manipulation\n",
      "RuntimeCmd: Adding entry to lpm match table MyIngress.ipv4_lpm\n",
      "match key:           LPM-c0:a8:01:00/24\n",
      "action:              MyIngress.forward\n",
      "runtime data:        00:00:00:00:00:01\t00:00\n",
      "Entry has been added with handle 0\n",
      "RuntimeCmd: \n",
      "Obtaining JSON from switch...\n",
      "Done\n",
      "Control utility for runtime P4 table manipulation\n",
      "RuntimeCmd: Adding entry to lpm match table MyIngress.ipv4_lpm\n",
      "match key:           LPM-c0:a8:02:00/24\n",
      "action:              MyIngress.forward\n",
      "runtime data:        00:00:00:00:00:04\t00:01\n",
      "Entry has been added with handle 1\n",
      "RuntimeCmd: \n",
      "Obtaining JSON from switch...\n",
      "Done\n",
      "Control utility for runtime P4 table manipulation\n",
      "RuntimeCmd: Adding entry to lpm match table MyIngress.ipv4_lpm\n",
      "match key:           LPM-c0:a8:03:00/24\n",
      "action:              MyIngress.forward\n",
      "runtime data:        00:00:00:00:00:05\t00:02\n",
      "Entry has been added with handle 2\n",
      "RuntimeCmd: \n",
      "Obtaining JSON from switch...\n",
      "Done\n",
      "Control utility for runtime P4 table manipulation\n",
      "RuntimeCmd: Adding entry to lpm match table MyIngress.ipv4_lpm\n",
      "match key:           LPM-c0:a8:04:00/24\n",
      "action:              MyIngress.forward\n",
      "runtime data:        00:00:00:00:00:08\t00:03\n",
      "Entry has been added with handle 3\n",
      "RuntimeCmd: \n",
      "Obtaining JSON from switch...\n",
      "Done\n",
      "Control utility for runtime P4 table manipulation\n",
      "RuntimeCmd: Adding entry to lpm match table MyIngress.ipv4_lpm\n",
      "match key:           LPM-c0:a8:05:00/24\n",
      "action:              MyIngress.forward\n",
      "runtime data:        00:00:00:00:00:10\t00:04\n",
      "Entry has been added with handle 4\n",
      "RuntimeCmd: \n"
     ]
    }
   ],
   "source": [
    "stdout, stderr = switch.execute(f'sudo /home/ubuntu/simple_switch_hp -i 0@{switch_iface1_name} -i 1@{switch_iface2_name} -i 2@{switch_iface3_name} -i 3@{switch_iface4_name} -i 4@{switch_iface5_name} main.json &')\n",
    "stdout, stderr = switch.execute('chmod +x 5sr.sh && ./5sr.sh')"
   ]
  },
  {
   "cell_type": "code",
   "execution_count": 62,
   "id": "35c354d3-f477-4372-aa49-fa98178135b0",
   "metadata": {},
   "outputs": [
    {
     "name": "stdout",
     "output_type": "stream",
     "text": [
      "Calling target program-options parser\n",
      "Adding interface enp7s0 as port 0\n",
      "Adding interface enp6s0 as port 1\n",
      "Obtaining JSON from switch...\n",
      "Done\n",
      "Control utility for runtime P4 table manipulation\n",
      "RuntimeCmd: Adding entry to lpm match table MyIngress.ipv4_lpm\n",
      "match key:           LPM-c0:a8:08:00/24\n",
      "action:              MyIngress.forward\n",
      "runtime data:        00:00:00:00:00:11\t00:00\n",
      "Entry has been added with handle 0\n",
      "RuntimeCmd: \n",
      "Obtaining JSON from switch...\n",
      "Done\n",
      "Control utility for runtime P4 table manipulation\n",
      "RuntimeCmd: Adding entry to lpm match table MyIngress.ipv4_lpm\n",
      "match key:           LPM-c0:a8:07:00/24\n",
      "action:              MyIngress.forward\n",
      "runtime data:        00:00:00:00:00:14\t00:01\n",
      "Entry has been added with handle 1\n",
      "RuntimeCmd: \n"
     ]
    }
   ],
   "source": [
    "stdout, stderr = switch2.execute(f'sudo /home/ubuntu/simple_switch_hp -i 0@{switch2_iface1_name} -i 1@{switch2_iface2_name} main.json &')\n",
    "stdout, stderr = switch2.execute('chmod +x 25sr.sh && ./25sr.sh')"
   ]
  },
  {
   "cell_type": "code",
   "execution_count": 52,
   "id": "bdeaf148-fd61-47f7-bccc-73fc17ea8847",
   "metadata": {},
   "outputs": [],
   "source": [
    "stdout, stderr = server1.execute(f'sudo apt-get update && sudo apt-get install -y iperf3', quiet=True)\n",
    "stdout, stderr = server2.execute(f'sudo apt-get update && sudo apt-get install -y iperf3', quiet=True)\n",
    "stdout, stderr = user1.execute(f'sudo apt-get update && sudo apt-get install -y iperf3', quiet=True)\n",
    "stdout, stderr = user2.execute(f'sudo apt-get update && sudo apt-get install -y iperf3', quiet=True)\n",
    "stdout, stderr = cont.execute(f'sudo apt-get update && sudo apt-get install -y iperf3', quiet=True)"
   ]
  },
  {
   "cell_type": "code",
   "execution_count": 53,
   "id": "d48c5e8e-cc13-4a9b-ad78-eca78e81e408",
   "metadata": {},
   "outputs": [],
   "source": [
    "#2\n",
    "stdout, stderr = server3.execute(f'sudo apt-get update && sudo apt-get install -y iperf3', quiet=True)"
   ]
  },
  {
   "cell_type": "code",
   "execution_count": 54,
   "id": "84f5603b-1124-4d23-ba49-1918e94177f7",
   "metadata": {},
   "outputs": [
    {
     "data": {
      "text/plain": [
       "<Future at 0x7f74bc6284f0 state=running>"
      ]
     },
     "execution_count": 54,
     "metadata": {},
     "output_type": "execute_result"
    }
   ],
   "source": [
    "user2.execute_thread('iperf3 -s')"
   ]
  },
  {
   "cell_type": "code",
   "execution_count": 55,
   "id": "51ee0e07-13f4-49d0-a1fb-6b1bec658b5a",
   "metadata": {},
   "outputs": [],
   "source": [
    "stdout, stderr = user1.execute('iperf3 -c 192.168.4.10 -P 5',quiet=True)"
   ]
  },
  {
   "cell_type": "code",
   "execution_count": 56,
   "id": "a28d70c5-dcfd-4e8d-a158-486587d739cd",
   "metadata": {},
   "outputs": [],
   "source": [
    "server1.upload_file('scripts/host_tune.sh', 'host_tune.sh')\n",
    "stdout, stderr = server1.execute('chmod +x host_tune.sh && sudo ./host_tune.sh', quiet=True)\n",
    "server2.upload_file('scripts/host_tune.sh', 'host_tune.sh')\n",
    "stdout, stderr = server2.execute('chmod +x host_tune.sh && sudo ./host_tune.sh', quiet=True)\n",
    "user1.upload_file('scripts/host_tune.sh', 'host_tune.sh')\n",
    "stdout, stderr = user1.execute('chmod +x host_tune.sh && sudo ./host_tune.sh', quiet=True)\n",
    "user2.upload_file('scripts/host_tune.sh', 'host_tune.sh')\n",
    "stdout, stderr = server2.execute('chmod +x host_tune.sh && sudo ./host_tune.sh', quiet=True)\n",
    "cont.upload_file('scripts/host_tune.sh', 'host_tune.sh')\n",
    "stdout, stderr = cont.execute('chmod +x host_tune.sh && sudo ./host_tune.sh', quiet=True)\n",
    "switch.upload_file('scripts/host_tune.sh', 'host_tune.sh')\n",
    "stdout, stderr = switch.execute('chmod +x host_tune.sh && sudo ./host_tune.sh', quiet=True)"
   ]
  },
  {
   "cell_type": "code",
   "execution_count": 57,
   "id": "1bb9797b-c39f-44df-ae7a-f6d908d2a251",
   "metadata": {},
   "outputs": [],
   "source": [
    "#2\n",
    "server3.upload_file('scripts/host_tune.sh', 'host_tune.sh')\n",
    "stdout, stderr = server3.execute('chmod +x host_tune.sh && sudo ./host_tune.sh',quiet=True)\n",
    "switch2.upload_file('scripts/host_tune.sh', 'host_tune.sh')\n",
    "stdout, stderr = switch2.execute('chmod +x host_tune.sh && sudo ./host_tune.sh',quiet=True)"
   ]
  },
  {
   "cell_type": "code",
   "execution_count": 58,
   "id": "39f52eda-e10e-4ed6-8f31-671574f8bf33",
   "metadata": {},
   "outputs": [
    {
     "name": "stdout",
     "output_type": "stream",
     "text": [
      "User1 dest ip = 192.168.3.10\n",
      "PING 192.168.3.10 (192.168.3.10) 56(84) bytes of data.\n",
      "64 bytes from 192.168.3.10: icmp_seq=1 ttl=63 time=1.19 ms\n",
      "64 bytes from 192.168.3.10: icmp_seq=2 ttl=63 time=0.615 ms\n",
      "64 bytes from 192.168.3.10: icmp_seq=3 ttl=63 time=0.501 ms\n",
      "\n",
      "--- 192.168.3.10 ping statistics ---\n",
      "3 packets transmitted, 3 received, 0% packet loss, time 2006ms\n",
      "rtt min/avg/max/mdev = 0.501/0.769/1.192/0.302 ms\n"
     ]
    }
   ],
   "source": [
    "user1_dest_ip = user1_ip.split('/')[0]\n",
    "print(f'User1 dest ip = {user1_dest_ip}')\n",
    "stdout, stderr = server1.execute(f'ping {user1_dest_ip} -c 3')"
   ]
  },
  {
   "cell_type": "code",
   "execution_count": 63,
   "id": "a55e7f69-b1e9-4cd6-95f3-491177f30666",
   "metadata": {},
   "outputs": [
    {
     "name": "stdout",
     "output_type": "stream",
     "text": [
      "Server3 dest ip = 192.168.7.10\n",
      "PING 192.168.7.10 (192.168.7.10) 56(84) bytes of data.\n",
      "64 bytes from 192.168.7.10: icmp_seq=1 ttl=63 time=1.32 ms\n",
      "64 bytes from 192.168.7.10: icmp_seq=2 ttl=63 time=0.447 ms\n",
      "64 bytes from 192.168.7.10: icmp_seq=3 ttl=63 time=0.577 ms\n",
      "\n",
      "--- 192.168.7.10 ping statistics ---\n",
      "3 packets transmitted, 3 received, 0% packet loss, time 2032ms\n",
      "rtt min/avg/max/mdev = 0.447/0.782/1.322/0.385 ms\n"
     ]
    }
   ],
   "source": [
    "#2\n",
    "server3_dest_ip = server3_ip.split('/')[0]\n",
    "print(f'Server3 dest ip = {server3_dest_ip}')\n",
    "stdout, stderr = server1.execute(f'ping {server3_dest_ip} -c 3')"
   ]
  },
  {
   "cell_type": "code",
   "execution_count": 60,
   "id": "4da7163c-1678-4045-a98d-6322b4886378",
   "metadata": {},
   "outputs": [
    {
     "name": "stdout",
     "output_type": "stream",
     "text": [
      "Server2 dest ip = 192.168.2.10\n",
      "PING 192.168.2.10 (192.168.2.10) 56(84) bytes of data.\n",
      "64 bytes from 192.168.2.10: icmp_seq=1 ttl=63 time=1.13 ms\n",
      "64 bytes from 192.168.2.10: icmp_seq=2 ttl=63 time=0.460 ms\n",
      "64 bytes from 192.168.2.10: icmp_seq=3 ttl=63 time=0.421 ms\n",
      "\n",
      "--- 192.168.2.10 ping statistics ---\n",
      "3 packets transmitted, 3 received, 0% packet loss, time 2006ms\n",
      "rtt min/avg/max/mdev = 0.421/0.670/1.131/0.325 ms\n"
     ]
    }
   ],
   "source": [
    "server2_dest_ip = server2_ip.split('/')[0]\n",
    "print(f'Server2 dest ip = {server2_dest_ip}')\n",
    "stdout, stderr = server1.execute(f'ping {server2_dest_ip} -c 3')"
   ]
  },
  {
   "cell_type": "code",
   "execution_count": 64,
   "id": "c60092e8-f432-456c-a562-47e2bfea26b9",
   "metadata": {},
   "outputs": [
    {
     "name": "stdout",
     "output_type": "stream",
     "text": [
      "Server1 dest ip = 192.168.8.10\n",
      "PING 192.168.8.10 (192.168.8.10) 56(84) bytes of data.\n",
      "64 bytes from 192.168.8.10: icmp_seq=1 ttl=63 time=0.518 ms\n",
      "64 bytes from 192.168.8.10: icmp_seq=2 ttl=63 time=0.506 ms\n",
      "64 bytes from 192.168.8.10: icmp_seq=3 ttl=63 time=0.481 ms\n",
      "\n",
      "--- 192.168.8.10 ping statistics ---\n",
      "3 packets transmitted, 3 received, 0% packet loss, time 2052ms\n",
      "rtt min/avg/max/mdev = 0.481/0.501/0.518/0.015 ms\n"
     ]
    }
   ],
   "source": [
    "server1_dest_ip = server1_ip2.split('/')[0]\n",
    "print(f'Server1 dest ip = {server1_dest_ip}')\n",
    "stdout, stderr = server3.execute(f'ping {server1_dest_ip} -c 3')"
   ]
  }
 ],
 "metadata": {
  "kernelspec": {
   "display_name": "Python 3 (ipykernel)",
   "language": "python",
   "name": "python3"
  },
  "language_info": {
   "codemirror_mode": {
    "name": "ipython",
    "version": 3
   },
   "file_extension": ".py",
   "mimetype": "text/x-python",
   "name": "python",
   "nbconvert_exporter": "python",
   "pygments_lexer": "ipython3",
   "version": "3.10.6"
  }
 },
 "nbformat": 4,
 "nbformat_minor": 5
}
